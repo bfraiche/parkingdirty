{
  "nbformat": 4,
  "nbformat_minor": 0,
  "metadata": {
    "colab": {
      "name": "object_detection.ipynb",
      "version": "0.3.2",
      "provenance": [],
      "collapsed_sections": [],
      "toc_visible": true,
      "include_colab_link": true
    },
    "kernelspec": {
      "name": "python3",
      "display_name": "Python 3"
    },
    "accelerator": "GPU"
  },
  "cells": [
    {
      "cell_type": "markdown",
      "metadata": {
        "id": "view-in-github",
        "colab_type": "text"
      },
      "source": [
        "<a href=\"https://colab.research.google.com/github/danbernstein/parkingdirty/blob/master/object_detection.ipynb\" target=\"_parent\"><img src=\"https://colab.research.google.com/assets/colab-badge.svg\" alt=\"Open In Colab\"/></a>"
      ]
    },
    {
      "metadata": {
        "id": "smQWTwI7k4Bf",
        "colab_type": "text"
      },
      "cell_type": "markdown",
      "source": [
        "**Object Detection API configuration**: In this step, the model for object detection is downloaded, also some copying and deletion of references are done to leave the whole scheme configured."
      ]
    },
    {
      "metadata": {
        "id": "XnBVJiIzYune",
        "colab_type": "code",
        "colab": {}
      },
      "cell_type": "code",
      "source": [
        "!git clone https://github.com/tensorflow/models.git\n",
        "!apt-get -qq install libprotobuf-java protobuf-compiler\n",
        "!protoc ./models/research/object_detection/protos/string_int_label_map.proto --python_out=.\n",
        "!cp -R models/research/object_detection/ object_detection/\n",
        "!rm -rf models"
      ],
      "execution_count": 0,
      "outputs": []
    },
    {
      "metadata": {
        "id": "qwWt0kSihqCv",
        "colab_type": "text"
      },
      "cell_type": "markdown",
      "source": [
        "**Imports** needed to run the Object Detection API demonstration"
      ]
    },
    {
      "metadata": {
        "id": "YspILW_rZu0v",
        "colab_type": "code",
        "colab": {}
      },
      "cell_type": "code",
      "source": [
        "import numpy as np\n",
        "import os\n",
        "import six.moves.urllib as urllib\n",
        "import sys\n",
        "import tarfile\n",
        "import tensorflow as tf\n",
        "import zipfile\n",
        "\n",
        "from collections import defaultdict\n",
        "from io import StringIO\n",
        "from matplotlib import pyplot as plt\n",
        "\n",
        "from PIL import Image\n",
        "import scipy.misc\n",
        "\n",
        "from object_detection.utils import label_map_util\n",
        "from object_detection.utils import visualization_utils as vis_util\n",
        "\n",
        "import time\n",
        "import csv\n",
        "from datetime import datetime\n",
        "\n",
        "#!pip install shapely\n",
        "\n",
        "from shapely.geometry import Polygon # to measure overlap between bike lane and bounding boxes\n"
      ],
      "execution_count": 0,
      "outputs": []
    },
    {
      "metadata": {
        "id": "HfEGd-Wf7K4y",
        "colab_type": "code",
        "colab": {}
      },
      "cell_type": "code",
      "source": [
        "if not os.path.exists('object_detection/input_imgs'):\n",
        "    os.makedirs('object_detection/input_imgs')\n",
        "    \n",
        "    # download parking dirty images here when needed\n",
        "\n",
        "if not os.path.exists('object_detection/output_imgs'):\n",
        "    os.makedirs('object_detection/output_imgs')\n",
        "\n",
        "if not os.path.exists('object_detection/output_csv'):\n",
        "    os.makedirs('object_detection/output_csv')"
      ],
      "execution_count": 0,
      "outputs": []
    },
    {
      "metadata": {
        "id": "iJ14mdtrTs4T",
        "colab_type": "code",
        "colab": {}
      },
      "cell_type": "code",
      "source": [
        "# download and read in data\n",
        "zip_address = 'http://parkingdirty.com/BlockedBikeLaneTrainingSingleCam.zip'\n",
        "\n",
        "import requests, zipfile, io\n",
        "r = requests.get(zip_address)\n",
        "z = zipfile.ZipFile(io.BytesIO(r.content))\n",
        "z.extractall('object_detection/input_imgs') "
      ],
      "execution_count": 0,
      "outputs": []
    },
    {
      "metadata": {
        "id": "kGx_08UcmtOF",
        "colab_type": "text"
      },
      "cell_type": "markdown",
      "source": [
        "**Configuration** of the model to use, path to the frozen inference graph and extra config elements for the Object detection API implementation."
      ]
    },
    {
      "metadata": {
        "id": "8n_alUkLZ1gl",
        "colab_type": "code",
        "colab": {}
      },
      "cell_type": "code",
      "source": [
        "# What model to download.\n",
        "# MODEL_NAME = 'ssd_mobilenet_v1_coco_2017_11_17'\n",
        "\n",
        "# model with more accurancy but up to you use a diferent model\n",
        "MODEL_NAME = 'faster_rcnn_inception_resnet_v2_atrous_coco_2017_11_08'\n",
        "\n",
        "MODEL_FILE = MODEL_NAME + '.tar.gz'\n",
        "DOWNLOAD_BASE = 'http://download.tensorflow.org/models/object_detection/'\n",
        "\n",
        "# Path to frozen detection graph. This is the actual model that is used for the object detection.\n",
        "PATH_TO_CKPT = MODEL_NAME + '/frozen_inference_graph.pb'\n",
        "\n",
        "# List of the strings that is used to add correct label for each box.\n",
        "PATH_TO_LABELS = os.path.join('object_detection/data', 'mscoco_label_map.pbtxt')\n",
        "\n",
        "NUM_CLASSES = 90\n",
        "\n",
        "opener = urllib.request.URLopener()\n",
        "opener.retrieve(DOWNLOAD_BASE + MODEL_FILE, MODEL_FILE)\n",
        "tar_file = tarfile.open(MODEL_FILE)\n",
        "for file in tar_file.getmembers():\n",
        "  file_name = os.path.basename(file.name)\n",
        "  if 'frozen_inference_graph.pb' in file_name:\n",
        "    tar_file.extract(file, os.getcwd())\n",
        "    \n",
        "detection_graph = tf.Graph()\n",
        "with detection_graph.as_default():\n",
        "  od_graph_def = tf.GraphDef()\n",
        "  with tf.gfile.GFile(PATH_TO_CKPT, 'rb') as fid:\n",
        "    serialized_graph = fid.read()\n",
        "    od_graph_def.ParseFromString(serialized_graph)\n",
        "    tf.import_graph_def(od_graph_def, name='')\n",
        "    \n",
        "label_map = label_map_util.load_labelmap(PATH_TO_LABELS)\n",
        "categories = label_map_util.convert_label_map_to_categories(label_map, max_num_classes=NUM_CLASSES, use_display_name=True)\n",
        "category_index = label_map_util.create_category_index(categories)"
      ],
      "execution_count": 0,
      "outputs": []
    },
    {
      "metadata": {
        "id": "UMPG4y0dbQC1",
        "colab_type": "code",
        "colab": {}
      },
      "cell_type": "code",
      "source": [
        "def load_image_into_numpy_array(image):\n",
        "  (im_width, im_height) = image.size\n",
        "  return np.array(image.getdata()).reshape(\n",
        "      (im_height, im_width, 3)).astype(np.uint8)"
      ],
      "execution_count": 0,
      "outputs": []
    },
    {
      "metadata": {
        "id": "2JgS61i2O-IO",
        "colab_type": "code",
        "colab": {}
      },
      "cell_type": "code",
      "source": [
        "#mport shutil\n",
        "#hutil.rmtree('object_detection/output_imgs')\n",
        "#hutil.rmtree('object_detection/output_csv')"
      ],
      "execution_count": 0,
      "outputs": []
    },
    {
      "metadata": {
        "id": "_Vvi4-2fm2qe",
        "colab_type": "text"
      },
      "cell_type": "markdown",
      "source": [
        "piece of code that represent the concrete detection, calling the TF session"
      ]
    },
    {
      "metadata": {
        "id": "q9FZsaZkaPUz",
        "colab_type": "code",
        "colab": {}
      },
      "cell_type": "code",
      "source": [
        "def processimages(path_images_dir, save_directory):\n",
        "\n",
        "  csv_file = 'object_detection/output_csv/csvfile.csv'\n",
        "\n",
        "  f = open(csv_file, 'w')\n",
        "  \n",
        "  with detection_graph.as_default():\n",
        "    with tf.Session(graph=detection_graph) as sess:\n",
        "      # configure tf object detection API for boxes, scores, classes, and num of detections\n",
        "      \n",
        "      sess.run(tf.global_variables_initializer())\n",
        "      #img = 1\n",
        "      # Definite input and output Tensors for detection_graph\n",
        "      image_tensor = detection_graph.get_tensor_by_name('image_tensor:0')\n",
        "      # Each box represents a part of the image where a particular object was detected.\n",
        "      detection_boxes = detection_graph.get_tensor_by_name('detection_boxes:0')\n",
        "      # Each score represent how level of confidence for each of the objects.\n",
        "      # Score is shown on the result image, together with the class label.\n",
        "      detection_scores = detection_graph.get_tensor_by_name('detection_scores:0')\n",
        "      detection_classes = detection_graph.get_tensor_by_name('detection_classes:0')\n",
        "      num_detections = detection_graph.get_tensor_by_name('num_detections:0')\n",
        "      \n",
        "      for image_path in [os.path.join(path, name) for path, subdirs, files in os.walk(path_images_dir) for name in files]:\n",
        "\n",
        "        start_time = time.time()\n",
        "        timestamp = image_path.split(\".png\")[0]\n",
        "\n",
        "        try:\n",
        "            image = Image.open(image_path)\n",
        "            image_np = load_image_into_numpy_array(image)\n",
        "        except IOError:\n",
        "          print(\"Issue opening \"+image_path)\n",
        "          continue \n",
        "              \n",
        "        # the array based representation of the image will be used later in order to prepare the\n",
        "        # result image with boxes and labels on it.\n",
        "        #image_np = load_image_into_numpy_array(image)\n",
        "        # Expand dimensions since the model expects images to have shape: [1, None, None, 3]\n",
        "        image_np_expanded = np.expand_dims(image_np, axis=0)\n",
        "        \n",
        "        \n",
        "        # Actual detection.\n",
        "        (boxes, scores, classes, num) = sess.run(\n",
        "            [detection_boxes, detection_scores, detection_classes, num_detections],\n",
        "            feed_dict={image_tensor: image_np_expanded})# Visualization of the results of a detection.\n",
        "\n",
        "        vis_util.visualize_boxes_and_labels_on_image_array(\n",
        "            image_np,\n",
        "            np.squeeze(boxes),\n",
        "            np.squeeze(classes).astype(np.int32),\n",
        "            np.squeeze(scores),\n",
        "            category_index,\n",
        "            min_score_thresh=0.4,\n",
        "            use_normalized_coordinates=True,\n",
        "            line_thickness=8)\n",
        "\n",
        "        plt.figure(figsize=IMAGE_SIZE)\n",
        "        #plt.imshow(image_np)\n",
        "\n",
        "        #plt.imsave(save_directory + image_path, image_np)\n",
        "        #img += 1\n",
        "\n",
        "        scores = np.squeeze(scores)\n",
        "        boxes = np.squeeze(boxes)\n",
        "        # Return found objects\n",
        "        #print([category_index.get(i) for i in classes[0]])\n",
        "        #print(boxes.shape)\n",
        "        #print(num)\n",
        "        num_cars_in_bikelane_03, num_cars_in_bikelane_05, num_cars_in_bike_lane_contains, num_bikes_in_bike_lane = 0, 0, 0, 0\n",
        "        import matplotlib.path as mpltPath\n",
        "\n",
        "        # the lane polygon is specific to each camera at a particular point in time\n",
        "        # it could change if the camera's perspective is changed\n",
        "        # a more robust solution would automatically identify bike lanes\n",
        "        # lane points identified with: https://www.image-map.net/\n",
        "        lane = np.array([[158,278],[126,272],[302,115],[310,116]])\n",
        "        pathbikelane = mpltPath.Path(lane)\n",
        "\n",
        "  # analyzing the detected objects for which are in the bikelane and converting into a tabular format \n",
        "\n",
        "        for i in range(boxes.shape[0]):\n",
        "           if scores[i] > .4:\n",
        "              box = tuple(boxes[i].tolist())\n",
        "              #print(box)\n",
        "\n",
        "              ymin, xmin, ymax, xmax = box\n",
        "\n",
        "              # the box is given as a fraction of the distance in each dimension of the image\n",
        "              # so we have to multiple it by the image dimensions to get the center of each box, relative to the rest of the image\n",
        "              center_x = (((xmax * 352) - (xmin * 352)) / 2) + (xmin * 352) # x dimension of image\n",
        "              center_y = (((ymax * 288) - (ymin * 288)) / 2) + (ymin * 288) # y dimension of image\n",
        "              points = [(center_x, center_y)]\n",
        "              \n",
        "              \n",
        "              obj_area =  ((xmax * 352) - (xmin * 352)) * ((ymax * 288) - (ymin * 288))\n",
        "\n",
        "              p1 = Polygon([((xmax * 352),(ymax * 288)), ((xmin * 352),(ymax * 288)), ((xmin * 352),(ymin * 288)), ((xmax * 352),(ymin * 288))])\n",
        "              p2 = Polygon([(158,278),(126,272),(302,115),(310,116)])\n",
        "              p3 = p1.intersection(p2)\n",
        "              overlap = p3.area / obj_area\n",
        "              \n",
        "              classes_int = np.squeeze(classes).astype(np.int32)\n",
        "\n",
        "              if classes_int[i] in category_index.keys():\n",
        "                                  class_name = category_index[classes_int[i]]['name']  \n",
        "\n",
        "              #print(class_name)\n",
        "              if class_name in {'car', 'truck', 'bus', 'motorcycle','train','person'}:\n",
        "                if overlap >= 0.3:\n",
        "                    num_cars_in_bikelane_03 += 1\n",
        "                if overlap >= 0.5:\n",
        "                    num_cars_in_bikelane_05 += 1    \n",
        "                if pathbikelane.contains_points(points):\n",
        "                    num_cars_in_bike_lane_contains +=1\n",
        "              \n",
        "              if class_name == 'bicycle':\n",
        "                if pathbikelane.contains_points(points):\n",
        "                    num_bikes_in_bike_lane += 1      \n",
        "                    \n",
        "        #print(num_cars_in_bikelane, num_bikes_in_bike_lane)\n",
        "    \n",
        "        # if the image file name contains \"not\" then assigned 0, otherwise 1, so 1 is blocked, 0 is notblocked\n",
        "        if os.path.join(PATH_TO_TEST_IMAGES_DIR + \"/\" + image_path).find('not') is not -1:\n",
        "          img_labels = 0\n",
        "        else:\n",
        "          img_labels = 1 \n",
        " \n",
        " \n",
        "        f.write(timestamp + ',' + \n",
        "                str(num_cars_in_bikelane_03) + ',' +\n",
        "                str(num_cars_in_bikelane_05) + ',' + \n",
        "                str(num_cars_in_bike_lane_contains) + ',' + \n",
        "                str(num_bikes_in_bike_lane) + ',' + \n",
        "                str(img_labels) + '\\n')\n",
        "\n",
        "        #print(\"Process Time \" + str(time.time() - start_time))\n",
        "        scipy.misc.imsave('object_detection/output_imgs/' + os.path.split(image_path)[1], image_np) # save csv to a different directory than annotated images\n",
        "        \n",
        "  f.close()\n",
        "  print('successfully run')\n",
        "  return csv_file"
      ],
      "execution_count": 0,
      "outputs": []
    },
    {
      "metadata": {
        "id": "i7OblrH2aMJy",
        "colab_type": "code",
        "colab": {}
      },
      "cell_type": "code",
      "source": [
        "# DIRECTORY OF IMAGES\n",
        "#PATH_TO_TEST_IMAGES_DIR = \n",
        "\n",
        "# STRUCTURE OF FILE NAME FOR EACH IMAGE\n",
        "#TEST_IMAGE_PATHS = [ os.path.join(PATH_TO_TEST_IMAGES_DIR, '2016-09-16 154317 cam135.png'.format(i)) for i in range(1, 3) ]\n",
        "\n",
        "# Size, in inches, of the output images.\n",
        "IMAGE_SIZE = (12, 8)"
      ],
      "execution_count": 0,
      "outputs": []
    },
    {
      "metadata": {
        "id": "RCBlIRt403KE",
        "colab_type": "code",
        "colab": {
          "base_uri": "https://localhost:8080/",
          "height": 272
        },
        "outputId": "b120f247-1e77-4d33-c629-39c640e29634"
      },
      "cell_type": "code",
      "source": [
        "processimages('object_detection/input_imgs', 'object_detection/output_imgs')"
      ],
      "execution_count": 15,
      "outputs": [
        {
          "output_type": "error",
          "ename": "TypeError",
          "evalue": "ignored",
          "traceback": [
            "\u001b[0;31m---------------------------------------------------------------------------\u001b[0m",
            "\u001b[0;31mTypeError\u001b[0m                                 Traceback (most recent call last)",
            "\u001b[0;32m<ipython-input-15-edfb23e558ba>\u001b[0m in \u001b[0;36m<module>\u001b[0;34m()\u001b[0m\n\u001b[0;32m----> 1\u001b[0;31m \u001b[0mprocessimages\u001b[0m\u001b[0;34m(\u001b[0m\u001b[0;34m'object_detection/input_imgs'\u001b[0m\u001b[0;34m,\u001b[0m \u001b[0;34m'object_detection/output_imgs'\u001b[0m\u001b[0;34m)\u001b[0m\u001b[0;34m\u001b[0m\u001b[0;34m\u001b[0m\u001b[0m\n\u001b[0m",
            "\u001b[0;32m<ipython-input-14-d163f263eda0>\u001b[0m in \u001b[0;36mprocessimages\u001b[0;34m(path_images_dir, save_directory)\u001b[0m\n\u001b[1;32m     21\u001b[0m       \u001b[0mnum_detections\u001b[0m \u001b[0;34m=\u001b[0m \u001b[0mdetection_graph\u001b[0m\u001b[0;34m.\u001b[0m\u001b[0mget_tensor_by_name\u001b[0m\u001b[0;34m(\u001b[0m\u001b[0;34m'num_detections:0'\u001b[0m\u001b[0;34m)\u001b[0m\u001b[0;34m\u001b[0m\u001b[0;34m\u001b[0m\u001b[0m\n\u001b[1;32m     22\u001b[0m \u001b[0;34m\u001b[0m\u001b[0m\n\u001b[0;32m---> 23\u001b[0;31m       \u001b[0;32mfor\u001b[0m \u001b[0mimage_path\u001b[0m \u001b[0;32min\u001b[0m \u001b[0;34m[\u001b[0m\u001b[0mos\u001b[0m\u001b[0;34m.\u001b[0m\u001b[0mpath\u001b[0m\u001b[0;34m.\u001b[0m\u001b[0mjoin\u001b[0m\u001b[0;34m(\u001b[0m\u001b[0mpath\u001b[0m\u001b[0;34m,\u001b[0m \u001b[0mname\u001b[0m\u001b[0;34m)\u001b[0m \u001b[0;32mfor\u001b[0m \u001b[0mpath\u001b[0m\u001b[0;34m,\u001b[0m \u001b[0msubdirs\u001b[0m\u001b[0;34m,\u001b[0m \u001b[0mfiles\u001b[0m \u001b[0;32min\u001b[0m \u001b[0mos\u001b[0m\u001b[0;34m.\u001b[0m\u001b[0mwalk\u001b[0m\u001b[0;34m(\u001b[0m\u001b[0mpath_images_dir\u001b[0m\u001b[0;34m)\u001b[0m\u001b[0;34m[\u001b[0m\u001b[0;36m3843\u001b[0m\u001b[0;34m:\u001b[0m\u001b[0;34m]\u001b[0m \u001b[0;32mfor\u001b[0m \u001b[0mname\u001b[0m \u001b[0;32min\u001b[0m \u001b[0mfiles\u001b[0m\u001b[0;34m]\u001b[0m\u001b[0;34m:\u001b[0m\u001b[0;34m\u001b[0m\u001b[0;34m\u001b[0m\u001b[0m\n\u001b[0m\u001b[1;32m     24\u001b[0m \u001b[0;34m\u001b[0m\u001b[0m\n\u001b[1;32m     25\u001b[0m         \u001b[0mstart_time\u001b[0m \u001b[0;34m=\u001b[0m \u001b[0mtime\u001b[0m\u001b[0;34m.\u001b[0m\u001b[0mtime\u001b[0m\u001b[0;34m(\u001b[0m\u001b[0;34m)\u001b[0m\u001b[0;34m\u001b[0m\u001b[0;34m\u001b[0m\u001b[0m\n",
            "\u001b[0;31mTypeError\u001b[0m: 'generator' object is not subscriptable"
          ]
        }
      ]
    },
    {
      "metadata": {
        "id": "oSnTiUgehv8E",
        "colab_type": "code",
        "colab": {}
      },
      "cell_type": "code",
      "source": [
        "# compare computer classified obstacles to manually classified\n",
        "import pandas\n",
        "file = pandas.read_csv('object_detection/output_csv/csvfile.csv',\n",
        "                      names = ['image','obstacle_03','obstacle_contains','obstacle_bikes','label'])\n",
        "#print(file)\n",
        "file.obstacle_any = file.obstacle_03 + file.obstacle_contains\n",
        "pandas.crosstab(file.obstacle_03,file.label)\n",
        "pandas.crosstab(file.obstacle_contains,file.label)\n",
        "pandas.crosstab(file.obstacle_any,file.label)\n",
        "\n",
        "missed = file[file.obstacle_any == 0]\n",
        "missed.head(30)"
      ],
      "execution_count": 0,
      "outputs": []
    },
    {
      "metadata": {
        "id": "_Q2oVHyB08tO",
        "colab_type": "code",
        "colab": {}
      },
      "cell_type": "code",
      "source": [
        "#calculate total time of blockage\n",
        "\n"
      ],
      "execution_count": 0,
      "outputs": []
    },
    {
      "metadata": {
        "id": "cZfzxyKc_09W",
        "colab_type": "code",
        "colab": {}
      },
      "cell_type": "code",
      "source": [
        "# read and resize images, also store as X, Y with X as image array and Y as label\n",
        "#from google.colab import files\n",
        "#files.download('object_detection/output_csv/csvfile.csv') "
      ],
      "execution_count": 0,
      "outputs": []
    }
  ]
}