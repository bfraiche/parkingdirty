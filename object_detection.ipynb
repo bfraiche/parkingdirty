{
  "nbformat": 4,
  "nbformat_minor": 0,
  "metadata": {
    "colab": {
      "name": "object_detection.ipynb",
      "version": "0.3.2",
      "provenance": [],
      "collapsed_sections": [],
      "include_colab_link": true
    },
    "kernelspec": {
      "name": "python3",
      "display_name": "Python 3"
    },
    "accelerator": "GPU"
  },
  "cells": [
    {
      "cell_type": "markdown",
      "metadata": {
        "id": "view-in-github",
        "colab_type": "text"
      },
      "source": [
        "<a href=\"https://colab.research.google.com/github/danbernstein/parkingdirty/blob/master/object_detection.ipynb\" target=\"_parent\"><img src=\"https://colab.research.google.com/assets/colab-badge.svg\" alt=\"Open In Colab\"/></a>"
      ]
    },
    {
      "metadata": {
        "id": "smQWTwI7k4Bf",
        "colab_type": "text"
      },
      "cell_type": "markdown",
      "source": [
        "**Object Detection API configuration**: In this step, the model for object detection is downloaded, also some copying and deletion of references are done to leave the whole scheme configured."
      ]
    },
    {
      "metadata": {
        "id": "XnBVJiIzYune",
        "colab_type": "code",
        "outputId": "6e3bcd52-1962-4aa1-bb86-a9f8f1bfe5f3",
        "colab": {
          "base_uri": "https://localhost:8080/",
          "height": 281
        }
      },
      "cell_type": "code",
      "source": [
        "!git clone https://github.com/tensorflow/models.git\n",
        "!apt-get -qq install libprotobuf-java protobuf-compiler\n",
        "!protoc ./models/research/object_detection/protos/string_int_label_map.proto --python_out=.\n",
        "!cp -R models/research/object_detection/ object_detection/\n",
        "!rm -rf models\n",
        "!pip install shapely\n",
        "!pip install pascal-voc-writer"
      ],
      "execution_count": 1,
      "outputs": [
        {
          "output_type": "stream",
          "text": [
            "Cloning into 'models'...\n",
            "remote: Enumerating objects: 7, done.\u001b[K\n",
            "remote: Counting objects: 100% (7/7), done.\u001b[K\n",
            "remote: Compressing objects: 100% (7/7), done.\u001b[K\n",
            "remote: Total 23989 (delta 0), reused 1 (delta 0), pack-reused 23982\u001b[K\n",
            "Receiving objects: 100% (23989/23989), 505.70 MiB | 27.96 MiB/s, done.\n",
            "Resolving deltas: 100% (14185/14185), done.\n",
            "Checking out files: 100% (2768/2768), done.\n",
            "Requirement already satisfied: shapely in /usr/local/lib/python3.6/dist-packages (1.6.4.post2)\n",
            "Collecting pascal-voc-writer\n",
            "  Downloading https://files.pythonhosted.org/packages/9d/82/dd86999e6062fc34478f11ead7a68e6615d7e270b39624547edd1dbaba76/pascal_voc_writer-0.1.4-py2.py3-none-any.whl\n",
            "Requirement already satisfied: jinja2 in /usr/local/lib/python3.6/dist-packages (from pascal-voc-writer) (2.10)\n",
            "Requirement already satisfied: MarkupSafe>=0.23 in /usr/local/lib/python3.6/dist-packages (from jinja2->pascal-voc-writer) (1.1.0)\n",
            "Installing collected packages: pascal-voc-writer\n",
            "Successfully installed pascal-voc-writer-0.1.4\n"
          ],
          "name": "stdout"
        }
      ]
    },
    {
      "metadata": {
        "id": "qwWt0kSihqCv",
        "colab_type": "text"
      },
      "cell_type": "markdown",
      "source": [
        "**Imports** needed to run the Object Detection API demonstration"
      ]
    },
    {
      "metadata": {
        "id": "YspILW_rZu0v",
        "colab_type": "code",
        "colab": {}
      },
      "cell_type": "code",
      "source": [
        "import numpy as np\n",
        "import os\n",
        "import six.moves.urllib as urllib\n",
        "import sys\n",
        "import tarfile\n",
        "import tensorflow as tf\n",
        "import zipfile\n",
        "\n",
        "from collections import defaultdict\n",
        "from io import StringIO\n",
        "from matplotlib import pyplot as plt\n",
        "\n",
        "from PIL import Image\n",
        "import scipy.misc\n",
        "\n",
        "from object_detection.utils import label_map_util\n",
        "from object_detection.utils import visualization_utils as vis_util\n",
        "\n",
        "import time\n",
        "import csv\n",
        "from datetime import datetime\n",
        "\n",
        "from shapely.geometry import Polygon # to measure overlap between bike lane and bounding boxes\n",
        "from pascal_voc_writer import Writer"
      ],
      "execution_count": 0,
      "outputs": []
    },
    {
      "metadata": {
        "id": "yAQJjSkj-7cB",
        "colab_type": "text"
      },
      "cell_type": "markdown",
      "source": [
        ""
      ]
    },
    {
      "metadata": {
        "id": "HfEGd-Wf7K4y",
        "colab_type": "code",
        "colab": {}
      },
      "cell_type": "code",
      "source": [
        "# create folders for input and outputs\n",
        "# output_img will return the input_img with bounding boxes for objects included\n",
        "# output_csv will have the outcome of the shapely overlap analysis \n",
        "\n",
        "if not os.path.exists('object_detection/input_imgs'):\n",
        "    os.makedirs('object_detection/input_imgs')\n",
        "    \n",
        "    # download parking dirty images here when needed\n",
        "\n",
        "if not os.path.exists('object_detection/output_imgs'):\n",
        "    os.makedirs('object_detection/output_imgs')\n",
        "\n",
        "if not os.path.exists('object_detection/output_csv'):\n",
        "    os.makedirs('object_detection/output_csv')"
      ],
      "execution_count": 0,
      "outputs": []
    },
    {
      "metadata": {
        "id": "iJ14mdtrTs4T",
        "colab_type": "code",
        "colab": {}
      },
      "cell_type": "code",
      "source": [
        "# download and read in data\n",
        "zip_address = 'http://parkingdirty.com/BlockedBikeLaneTrainingSingleCam.zip'\n",
        "\n",
        "import requests, zipfile, io\n",
        "r = requests.get(zip_address)\n",
        "z = zipfile.ZipFile(io.BytesIO(r.content))\n",
        "z.extractall('object_detection/input_imgs') # extract images from zip to input_imgs folder"
      ],
      "execution_count": 0,
      "outputs": []
    },
    {
      "metadata": {
        "id": "kGx_08UcmtOF",
        "colab_type": "text"
      },
      "cell_type": "markdown",
      "source": [
        "**Configuration** of the model to use, path to the frozen inference graph and extra config elements for the Object detection API implementation."
      ]
    },
    {
      "metadata": {
        "id": "8n_alUkLZ1gl",
        "colab_type": "code",
        "colab": {}
      },
      "cell_type": "code",
      "source": [
        "# model download process\n",
        "\n",
        "# model to use : Faster RCNN Inception ResNet V2 built on coco\n",
        "MODEL_NAME = 'faster_rcnn_inception_resnet_v2_atrous_coco_2017_11_08'\n",
        "\n",
        "MODEL_FILE = MODEL_NAME + '.tar.gz'\n",
        "DOWNLOAD_BASE = 'http://download.tensorflow.org/models/object_detection/'\n",
        "\n",
        "# Path to frozen detection graph. This is the actual model that is used for the object detection.\n",
        "PATH_TO_CKPT = MODEL_NAME + '/frozen_inference_graph.pb'\n",
        "\n",
        "# List of the strings that is used to add correct label for each box.\n",
        "PATH_TO_LABELS = os.path.join('object_detection/data', 'mscoco_label_map.pbtxt')\n",
        "\n",
        "NUM_CLASSES = 90\n",
        "\n",
        "opener = urllib.request.URLopener()\n",
        "opener.retrieve(DOWNLOAD_BASE + MODEL_FILE, MODEL_FILE)\n",
        "tar_file = tarfile.open(MODEL_FILE)\n",
        "for file in tar_file.getmembers():\n",
        "  file_name = os.path.basename(file.name)\n",
        "  if 'frozen_inference_graph.pb' in file_name:\n",
        "    tar_file.extract(file, os.getcwd())\n",
        "    \n",
        "detection_graph = tf.Graph()\n",
        "with detection_graph.as_default():\n",
        "  od_graph_def = tf.GraphDef()\n",
        "  with tf.gfile.GFile(PATH_TO_CKPT, 'rb') as fid:\n",
        "    serialized_graph = fid.read()\n",
        "    od_graph_def.ParseFromString(serialized_graph)\n",
        "    tf.import_graph_def(od_graph_def, name='')\n",
        "    \n",
        "label_map = label_map_util.load_labelmap(PATH_TO_LABELS)\n",
        "categories = label_map_util.convert_label_map_to_categories(label_map, max_num_classes=NUM_CLASSES, use_display_name=True)\n",
        "category_index = label_map_util.create_category_index(categories)\n",
        "\n",
        "# set image size for analysis\n",
        "IMAGE_SIZE = (12, 8)"
      ],
      "execution_count": 0,
      "outputs": []
    },
    {
      "metadata": {
        "id": "UMPG4y0dbQC1",
        "colab_type": "code",
        "colab": {}
      },
      "cell_type": "code",
      "source": [
        "# helper function to load images\n",
        "\n",
        "def load_image_into_numpy_array(image):\n",
        "  (im_width, im_height) = image.size\n",
        "  return np.array(image.getdata()).reshape(\n",
        "      (im_height, im_width, 3)).astype(np.uint8)"
      ],
      "execution_count": 0,
      "outputs": []
    },
    {
      "metadata": {
        "id": "2JgS61i2O-IO",
        "colab_type": "code",
        "colab": {}
      },
      "cell_type": "code",
      "source": [
        "# to re-run model in the same session, you can run these lines to remove the outputs, otherwise they will be appended\n",
        "#import shutil\n",
        "#hutil.rmtree('object_detection/output_imgs')\n",
        "#hutil.rmtree('object_detection/output_csv')"
      ],
      "execution_count": 0,
      "outputs": []
    },
    {
      "metadata": {
        "id": "_Vvi4-2fm2qe",
        "colab_type": "text"
      },
      "cell_type": "markdown",
      "source": [
        "piece of code that represent the concrete detection, calling the TF session"
      ]
    },
    {
      "metadata": {
        "id": "q9FZsaZkaPUz",
        "colab_type": "code",
        "colab": {}
      },
      "cell_type": "code",
      "source": [
        "def processimages(path_images_dir, save_directory):\n",
        "\n",
        "  csv_file = 'object_detection/output_csv/csvfile.csv'\n",
        "\n",
        "  f = open(csv_file, 'w')\n",
        "  \n",
        "  print('starting processing')\n",
        "  \n",
        "  #count = 0\n",
        "  \n",
        "  with detection_graph.as_default():\n",
        "    with tf.Session(graph=detection_graph) as sess:\n",
        "      \n",
        "      # configure tf object detection API for boxes, scores, classes, and num of detections\n",
        "      \n",
        "      sess.run(tf.global_variables_initializer())\n",
        "      # Definite input and output Tensors for detection_graph\n",
        "      image_tensor = detection_graph.get_tensor_by_name('image_tensor:0')\n",
        "      # Each box represents a part of the image where a particular object was detected.\n",
        "      detection_boxes = detection_graph.get_tensor_by_name('detection_boxes:0')\n",
        "      # Each score represent how level of confidence for each of the objects.\n",
        "      # Score is shown on the result image, together with the class label.\n",
        "      detection_scores = detection_graph.get_tensor_by_name('detection_scores:0')\n",
        "      detection_classes = detection_graph.get_tensor_by_name('detection_classes:0')\n",
        "      num_detections = detection_graph.get_tensor_by_name('num_detections:0')\n",
        "      \n",
        "      # loop through the object detection algorithm for each image\n",
        "      \n",
        "      \n",
        "      # used this path join in the for loop to get both the 'blocked' and 'notblocked' folders\n",
        "      for image_path in [os.path.join(path, name) for path, subdirs, files in os.walk(path_images_dir) for name in files[:10]]:\n",
        "        \n",
        "        #count +=1\n",
        "        #if type(count // 100) == int:\n",
        "        #  print('number of processed images: ' + str(count))\n",
        "        \n",
        "        \n",
        "        start_time = time.time()\n",
        "        timestamp = image_path.split(\".png\")[0]\n",
        "\n",
        "        # the array based representation of the image will be used later in order to prepare the\n",
        "        # result image with boxes and labels on it.\n",
        "        try:\n",
        "            image = Image.open(image_path)\n",
        "            image_np = load_image_into_numpy_array(image)\n",
        "        except IOError:\n",
        "          print(\"Issue opening \"+image_path)\n",
        "          continue \n",
        "              \n",
        "        # Expand dimensions since the model expects images to have shape: [1, None, None, 3]\n",
        "        image_np_expanded = np.expand_dims(image_np, axis=0)\n",
        "        \n",
        "        \n",
        "        # Actual detection\n",
        "        (boxes, scores, classes, num) = sess.run(\n",
        "            [detection_boxes, detection_scores, detection_classes, num_detections],\n",
        "            feed_dict={image_tensor: image_np_expanded}) \n",
        "        \n",
        "        \n",
        "        # Visualization of the results of a detection.\n",
        "        #vis_util.visualize_boxes_and_labels_on_image_array(\n",
        "        #    image_np,\n",
        "        #    np.squeeze(boxes),\n",
        "        #    np.squeeze(classes).astype(np.int32),\n",
        "        #    np.squeeze(scores),\n",
        "        #    category_index,\n",
        "        #    min_score_thresh=0.4,\n",
        "        #    use_normalized_coordinates=True,\n",
        "        #    line_thickness=8)\n",
        "\n",
        "        #plt.figure(figsize=IMAGE_SIZE)\n",
        "        #plt.imshow(image_np)\n",
        "\n",
        "        #plt.imsave(save_directory + image_path, image_np)\n",
        "        #img += 1\n",
        "\n",
        "        scores = np.squeeze(scores)\n",
        "        boxes = np.squeeze(boxes)\n",
        "        # Return found objects\n",
        "        #print([category_index.get(i) for i in classes[0]])\n",
        "        #print(boxes.shape)\n",
        "        #print(num)\n",
        "        num_cars_in_bikelane_03, num_cars_in_bikelane_05, num_cars_in_bike_lane_contains, num_bikes_in_bike_lane = 0, 0, 0, 0\n",
        "        import matplotlib.path as mpltPath\n",
        "\n",
        "        # the lane polygon is specific to each camera at a particular point in time\n",
        "        # it could change if the camera's perspective is changed\n",
        "        # a more robust solution would automatically identify bike lanes\n",
        "        # lane points identified with: https://www.image-map.net/\n",
        "        lane = np.array([[158,278],[126,272],[302,115],[310,116]])\n",
        "        pathbikelane = mpltPath.Path(lane)\n",
        "\n",
        "  # analyzing the detected objects for which are in the bikelane and converting into a tabular format \n",
        "\n",
        "        for i in range(boxes.shape[0]):\n",
        "           if scores[i] > .4:\n",
        "              box = tuple(boxes[i].tolist())\n",
        "              \n",
        "              classes_int = np.squeeze(classes).astype(np.int32)\n",
        "\n",
        "              if classes_int[i] in category_index.keys():\n",
        "                                  class_name = category_index[classes_int[i]]['name']  \n",
        "\n",
        "              #print(box)\n",
        "\n",
        "              ymin, xmin, ymax, xmax = box\n",
        "\n",
        "              # the box is given as a fraction of the distance in each dimension of the image\n",
        "              # so we have to multiple it by the image dimensions to get the center of each box, relative to the rest of the image\n",
        "              center_x = (((xmax * 352) - (xmin * 352)) / 2) + (xmin * 352) # x dimension of image\n",
        "              center_y = (((ymax * 288) - (ymin * 288)) / 2) + (ymin * 288) # y dimension of image\n",
        "              points = [(center_x, center_y)]\n",
        "              \n",
        "              # area of the object\n",
        "              obj_area =  ((xmax * 352) - (xmin * 352)) * ((ymax * 288) - (ymin * 288))\n",
        "              \n",
        "              # get the absolute position of the object in the image\n",
        "              p1 = Polygon([((xmax * 352),(ymax * 288)), ((xmin * 352),(ymax * 288)), ((xmin * 352),(ymin * 288)), ((xmax * 352),(ymin * 288))])\n",
        "              \n",
        "              # location of the bike lane\n",
        "              p2 = Polygon([(158,278),(126,272),(302,115),(310,116)])\n",
        "              \n",
        "              # get intersection between object and bike lane\n",
        "              p3 = p1.intersection(p2)\n",
        "              \n",
        "              # get ratio of overlap to total object area\n",
        "              overlap = p3.area / obj_area\n",
        "              \n",
        "\n",
        "              #print(class_name)\n",
        "              if class_name in {'car', 'truck', 'bus', 'motorcycle','train','person'}:\n",
        "                if overlap >= 0.3:\n",
        "                    num_cars_in_bikelane_03 += 1\n",
        "                if overlap >= 0.5:\n",
        "                    num_cars_in_bikelane_05 += 1    \n",
        "                if pathbikelane.contains_points(points):\n",
        "                    num_cars_in_bike_lane_contains +=1\n",
        "              \n",
        "              if class_name == 'bicycle':\n",
        "                if pathbikelane.contains_points(points):\n",
        "                    num_bikes_in_bike_lane += 1      \n",
        "                    \n",
        "        #print(num_cars_in_bikelane, num_bikes_in_bike_lane)\n",
        "    \n",
        "        # if the image file name contains \"not\" then assigned 0, otherwise 1, so 1 is blocked, 0 is notblocked\n",
        "        if os.path.join(path_images_dir + \"/\" + image_path).find('not') is not -1:\n",
        "          img_labels = 0\n",
        "        else:\n",
        "          img_labels = 1 \n",
        " \n",
        " \n",
        "        f.write(timestamp + ',' + \n",
        "                str(num_cars_in_bikelane_03) + ',' +\n",
        "                str(num_cars_in_bikelane_05) + ',' + \n",
        "                str(num_cars_in_bike_lane_contains) + ',' + \n",
        "                str(num_bikes_in_bike_lane) + ',' + \n",
        "                str(img_labels) + '\\n')\n",
        "\n",
        "        #print(\"Process Time \" + str(time.time() - start_time))\n",
        "        #scipy.misc.imsave('object_detection/output_imgs/' + os.path.split(image_path)[1], image_np) # save csv to a different directory than annotated images\n",
        "        \n",
        "  f.close()\n",
        "  print('successfully run')\n",
        "  return csv_file"
      ],
      "execution_count": 0,
      "outputs": []
    },
    {
      "metadata": {
        "id": "RCBlIRt403KE",
        "colab_type": "code",
        "colab": {
          "base_uri": "https://localhost:8080/",
          "height": 66
        },
        "outputId": "eecc542e-3d76-4a7b-b8fe-1f12d73634c2"
      },
      "cell_type": "code",
      "source": [
        "processimages('object_detection/input_imgs', 'object_detection/output_imgs')"
      ],
      "execution_count": 9,
      "outputs": [
        {
          "output_type": "stream",
          "text": [
            "starting processing\n",
            "successfully run\n"
          ],
          "name": "stdout"
        },
        {
          "output_type": "execute_result",
          "data": {
            "text/plain": [
              "'object_detection/output_csv/csvfile.csv'"
            ]
          },
          "metadata": {
            "tags": []
          },
          "execution_count": 9
        }
      ]
    },
    {
      "metadata": {
        "id": "cZfzxyKc_09W",
        "colab_type": "code",
        "colab": {}
      },
      "cell_type": "code",
      "source": [
        "# download output_csv \n",
        "from google.colab import files\n",
        "files.download('object_detection/output_csv/csvfile.csv') "
      ],
      "execution_count": 0,
      "outputs": []
    },
    {
      "metadata": {
        "id": "oSnTiUgehv8E",
        "colab_type": "code",
        "outputId": "0cecfa14-b860-4f04-c2fb-f7f00dca3890",
        "colab": {
          "base_uri": "https://localhost:8080/",
          "height": 416
        }
      },
      "cell_type": "code",
      "source": [
        "# Basic Analysis of Object Detection Algorithm \n",
        "# Looking to see how often the algorithm matches human image classification\n",
        "\n",
        "# compare computer classified obstacles to manually classified\n",
        "import pandas\n",
        "file = pandas.read_csv('object_detection/output_csv/csvfile.csv',\n",
        "                      names = ['image','obstacle_03','obstacle_05', 'obstacle_contains','obstacle_bikes','label'])\n",
        "#print(file)\n",
        "file.obstacle_any = file.obstacle_03 + file.obstacle_contains\n",
        "pandas.crosstab(file.obstacle_03,file.label)\n",
        "pandas.crosstab(file.obstacle_contains,file.label)\n",
        "pandas.crosstab(file.obstacle_any,file.label)\n",
        "\n",
        "missed = file[file.obstacle_any != file.label]\n",
        "missed.head(30)"
      ],
      "execution_count": 11,
      "outputs": [
        {
          "output_type": "stream",
          "text": [
            "/usr/local/lib/python3.6/dist-packages/ipykernel_launcher.py:5: UserWarning: Pandas doesn't allow columns to be created via a new attribute name - see https://pandas.pydata.org/pandas-docs/stable/indexing.html#attribute-access\n",
            "  \"\"\"\n"
          ],
          "name": "stderr"
        },
        {
          "output_type": "execute_result",
          "data": {
            "text/html": [
              "<div>\n",
              "<style scoped>\n",
              "    .dataframe tbody tr th:only-of-type {\n",
              "        vertical-align: middle;\n",
              "    }\n",
              "\n",
              "    .dataframe tbody tr th {\n",
              "        vertical-align: top;\n",
              "    }\n",
              "\n",
              "    .dataframe thead th {\n",
              "        text-align: right;\n",
              "    }\n",
              "</style>\n",
              "<table border=\"1\" class=\"dataframe\">\n",
              "  <thead>\n",
              "    <tr style=\"text-align: right;\">\n",
              "      <th></th>\n",
              "      <th>image</th>\n",
              "      <th>obstacle_03</th>\n",
              "      <th>obstacle_05</th>\n",
              "      <th>obstacle_contains</th>\n",
              "      <th>obstacle_bikes</th>\n",
              "      <th>label</th>\n",
              "    </tr>\n",
              "  </thead>\n",
              "  <tbody>\n",
              "    <tr>\n",
              "      <th>0</th>\n",
              "      <td>object_detection/input_imgs/blocked/2016-09-21...</td>\n",
              "      <td>2</td>\n",
              "      <td>0</td>\n",
              "      <td>1</td>\n",
              "      <td>0</td>\n",
              "      <td>1</td>\n",
              "    </tr>\n",
              "    <tr>\n",
              "      <th>1</th>\n",
              "      <td>object_detection/input_imgs/blocked/2016-10-05...</td>\n",
              "      <td>0</td>\n",
              "      <td>0</td>\n",
              "      <td>0</td>\n",
              "      <td>0</td>\n",
              "      <td>1</td>\n",
              "    </tr>\n",
              "    <tr>\n",
              "      <th>2</th>\n",
              "      <td>object_detection/input_imgs/blocked/2016-09-22...</td>\n",
              "      <td>2</td>\n",
              "      <td>0</td>\n",
              "      <td>2</td>\n",
              "      <td>0</td>\n",
              "      <td>1</td>\n",
              "    </tr>\n",
              "    <tr>\n",
              "      <th>4</th>\n",
              "      <td>object_detection/input_imgs/blocked/2016-09-22...</td>\n",
              "      <td>1</td>\n",
              "      <td>0</td>\n",
              "      <td>1</td>\n",
              "      <td>0</td>\n",
              "      <td>1</td>\n",
              "    </tr>\n",
              "    <tr>\n",
              "      <th>5</th>\n",
              "      <td>object_detection/input_imgs/blocked/2016-09-21...</td>\n",
              "      <td>3</td>\n",
              "      <td>2</td>\n",
              "      <td>2</td>\n",
              "      <td>0</td>\n",
              "      <td>1</td>\n",
              "    </tr>\n",
              "    <tr>\n",
              "      <th>6</th>\n",
              "      <td>object_detection/input_imgs/blocked/2016-09-21...</td>\n",
              "      <td>3</td>\n",
              "      <td>3</td>\n",
              "      <td>3</td>\n",
              "      <td>0</td>\n",
              "      <td>1</td>\n",
              "    </tr>\n",
              "    <tr>\n",
              "      <th>7</th>\n",
              "      <td>object_detection/input_imgs/blocked/2016-09-21...</td>\n",
              "      <td>2</td>\n",
              "      <td>2</td>\n",
              "      <td>2</td>\n",
              "      <td>0</td>\n",
              "      <td>1</td>\n",
              "    </tr>\n",
              "    <tr>\n",
              "      <th>8</th>\n",
              "      <td>object_detection/input_imgs/blocked/2016-09-28...</td>\n",
              "      <td>1</td>\n",
              "      <td>0</td>\n",
              "      <td>1</td>\n",
              "      <td>0</td>\n",
              "      <td>1</td>\n",
              "    </tr>\n",
              "    <tr>\n",
              "      <th>9</th>\n",
              "      <td>object_detection/input_imgs/blocked/2016-09-28...</td>\n",
              "      <td>0</td>\n",
              "      <td>0</td>\n",
              "      <td>0</td>\n",
              "      <td>0</td>\n",
              "      <td>1</td>\n",
              "    </tr>\n",
              "    <tr>\n",
              "      <th>15</th>\n",
              "      <td>object_detection/input_imgs/notblocked/2016-09...</td>\n",
              "      <td>1</td>\n",
              "      <td>0</td>\n",
              "      <td>0</td>\n",
              "      <td>0</td>\n",
              "      <td>0</td>\n",
              "    </tr>\n",
              "    <tr>\n",
              "      <th>17</th>\n",
              "      <td>object_detection/input_imgs/notblocked/2016-09...</td>\n",
              "      <td>1</td>\n",
              "      <td>0</td>\n",
              "      <td>0</td>\n",
              "      <td>0</td>\n",
              "      <td>0</td>\n",
              "    </tr>\n",
              "  </tbody>\n",
              "</table>\n",
              "</div>"
            ],
            "text/plain": [
              "                                                image  obstacle_03  \\\n",
              "0   object_detection/input_imgs/blocked/2016-09-21...            2   \n",
              "1   object_detection/input_imgs/blocked/2016-10-05...            0   \n",
              "2   object_detection/input_imgs/blocked/2016-09-22...            2   \n",
              "4   object_detection/input_imgs/blocked/2016-09-22...            1   \n",
              "5   object_detection/input_imgs/blocked/2016-09-21...            3   \n",
              "6   object_detection/input_imgs/blocked/2016-09-21...            3   \n",
              "7   object_detection/input_imgs/blocked/2016-09-21...            2   \n",
              "8   object_detection/input_imgs/blocked/2016-09-28...            1   \n",
              "9   object_detection/input_imgs/blocked/2016-09-28...            0   \n",
              "15  object_detection/input_imgs/notblocked/2016-09...            1   \n",
              "17  object_detection/input_imgs/notblocked/2016-09...            1   \n",
              "\n",
              "    obstacle_05  obstacle_contains  obstacle_bikes  label  \n",
              "0             0                  1               0      1  \n",
              "1             0                  0               0      1  \n",
              "2             0                  2               0      1  \n",
              "4             0                  1               0      1  \n",
              "5             2                  2               0      1  \n",
              "6             3                  3               0      1  \n",
              "7             2                  2               0      1  \n",
              "8             0                  1               0      1  \n",
              "9             0                  0               0      1  \n",
              "15            0                  0               0      0  \n",
              "17            0                  0               0      0  "
            ]
          },
          "metadata": {
            "tags": []
          },
          "execution_count": 11
        }
      ]
    },
    {
      "metadata": {
        "id": "ViKEsah2TpJw",
        "colab_type": "code",
        "colab": {
          "base_uri": "https://localhost:8080/",
          "height": 180
        },
        "outputId": "6dd907d3-453f-476b-f44d-e0ec83f9e9cf"
      },
      "cell_type": "code",
      "source": [
        "# need that dplyr-esque functionality\n",
        "\n",
        "!pip install dfply\n",
        "from dfply import *\n"
      ],
      "execution_count": 13,
      "outputs": [
        {
          "output_type": "stream",
          "text": [
            "Collecting dfply\n",
            "\u001b[?25l  Downloading https://files.pythonhosted.org/packages/53/91/18ab48c64661252dadff685f8ddbc6f456302923918f488714ee2345d49b/dfply-0.3.3-py3-none-any.whl (612kB)\n",
            "\u001b[K    100% |████████████████████████████████| 614kB 25.5MB/s \n",
            "\u001b[?25hRequirement already satisfied: numpy in /usr/local/lib/python3.6/dist-packages (from dfply) (1.14.6)\n",
            "Requirement already satisfied: pandas in /usr/local/lib/python3.6/dist-packages (from dfply) (0.22.0)\n",
            "Requirement already satisfied: pytz>=2011k in /usr/local/lib/python3.6/dist-packages (from pandas->dfply) (2018.9)\n",
            "Requirement already satisfied: python-dateutil>=2 in /usr/local/lib/python3.6/dist-packages (from pandas->dfply) (2.5.3)\n",
            "Requirement already satisfied: six>=1.5 in /usr/local/lib/python3.6/dist-packages (from python-dateutil>=2->pandas->dfply) (1.11.0)\n",
            "Installing collected packages: dfply\n",
            "Successfully installed dfply-0.3.3\n"
          ],
          "name": "stdout"
        }
      ]
    },
    {
      "metadata": {
        "id": "PaYsorhYTti_",
        "colab_type": "code",
        "outputId": "1a3b0131-6760-49fa-8064-1ab2c7bda750",
        "colab": {
          "base_uri": "https://localhost:8080/",
          "height": 105
        }
      },
      "cell_type": "code",
      "source": [
        "pandas.set_option('display.max_colwidth', 110)\n",
        "\n",
        "(file >> \n",
        "  mutate(obstacle_any = X.obstacle_03 + X.obstacle_contains)>>\n",
        "  # mask is the same as dplyr's 'filter' function\n",
        "  # see which photos the algorithm missed\n",
        "  mask(X.obstacle_any == 0, X.label == 1) >>\n",
        "  select(X.image, X.obstacle_any, X.obstacle_03, X.obstacle_contains) >>\n",
        "  head(20))"
      ],
      "execution_count": 16,
      "outputs": [
        {
          "output_type": "execute_result",
          "data": {
            "text/html": [
              "<div>\n",
              "<style scoped>\n",
              "    .dataframe tbody tr th:only-of-type {\n",
              "        vertical-align: middle;\n",
              "    }\n",
              "\n",
              "    .dataframe tbody tr th {\n",
              "        vertical-align: top;\n",
              "    }\n",
              "\n",
              "    .dataframe thead th {\n",
              "        text-align: right;\n",
              "    }\n",
              "</style>\n",
              "<table border=\"1\" class=\"dataframe\">\n",
              "  <thead>\n",
              "    <tr style=\"text-align: right;\">\n",
              "      <th></th>\n",
              "      <th>image</th>\n",
              "      <th>obstacle_any</th>\n",
              "      <th>obstacle_03</th>\n",
              "      <th>obstacle_contains</th>\n",
              "    </tr>\n",
              "  </thead>\n",
              "  <tbody>\n",
              "    <tr>\n",
              "      <th>1</th>\n",
              "      <td>object_detection/input_imgs/blocked/2016-10-05 202918 cam135</td>\n",
              "      <td>0</td>\n",
              "      <td>0</td>\n",
              "      <td>0</td>\n",
              "    </tr>\n",
              "    <tr>\n",
              "      <th>9</th>\n",
              "      <td>object_detection/input_imgs/blocked/2016-09-28 222814 cam135</td>\n",
              "      <td>0</td>\n",
              "      <td>0</td>\n",
              "      <td>0</td>\n",
              "    </tr>\n",
              "  </tbody>\n",
              "</table>\n",
              "</div>"
            ],
            "text/plain": [
              "                                                          image  obstacle_any  \\\n",
              "1  object_detection/input_imgs/blocked/2016-10-05 202918 cam135             0   \n",
              "9  object_detection/input_imgs/blocked/2016-09-28 222814 cam135             0   \n",
              "\n",
              "   obstacle_03  obstacle_contains  \n",
              "1            0                  0  \n",
              "9            0                  0  "
            ]
          },
          "metadata": {
            "tags": []
          },
          "execution_count": 16
        }
      ]
    },
    {
      "metadata": {
        "id": "3x9oreLCWMFs",
        "colab_type": "code",
        "outputId": "2b09cafb-0bdd-46b1-ce09-5013d97946b5",
        "colab": {
          "base_uri": "https://localhost:8080/",
          "height": 133
        }
      },
      "cell_type": "code",
      "source": [
        "# 0.5 tends towards 0, failing to identify many positive cases, 2400 / 3800 correct\n",
        "# 0.3 sees more positive cases, but more false positives - identifying 1's when they are 0's, 3100 / 3800 correct\n",
        "\n",
        "pandas.crosstab(file.obstacle_03 >= 1,file.label)\n",
        "#pandas.crosstab(file.obstacle_contains >= 1,file.label)\n",
        "#pandas.crosstab(file.obstacle_any >= 1,file.label)\n"
      ],
      "execution_count": 17,
      "outputs": [
        {
          "output_type": "execute_result",
          "data": {
            "text/html": [
              "<div>\n",
              "<style scoped>\n",
              "    .dataframe tbody tr th:only-of-type {\n",
              "        vertical-align: middle;\n",
              "    }\n",
              "\n",
              "    .dataframe tbody tr th {\n",
              "        vertical-align: top;\n",
              "    }\n",
              "\n",
              "    .dataframe thead th {\n",
              "        text-align: right;\n",
              "    }\n",
              "</style>\n",
              "<table border=\"1\" class=\"dataframe\">\n",
              "  <thead>\n",
              "    <tr style=\"text-align: right;\">\n",
              "      <th>label</th>\n",
              "      <th>0</th>\n",
              "      <th>1</th>\n",
              "    </tr>\n",
              "    <tr>\n",
              "      <th>obstacle_03</th>\n",
              "      <th></th>\n",
              "      <th></th>\n",
              "    </tr>\n",
              "  </thead>\n",
              "  <tbody>\n",
              "    <tr>\n",
              "      <th>False</th>\n",
              "      <td>8</td>\n",
              "      <td>3</td>\n",
              "    </tr>\n",
              "    <tr>\n",
              "      <th>True</th>\n",
              "      <td>2</td>\n",
              "      <td>7</td>\n",
              "    </tr>\n",
              "  </tbody>\n",
              "</table>\n",
              "</div>"
            ],
            "text/plain": [
              "label        0  1\n",
              "obstacle_03      \n",
              "False        8  3\n",
              "True         2  7"
            ]
          },
          "metadata": {
            "tags": []
          },
          "execution_count": 17
        }
      ]
    },
    {
      "metadata": {
        "id": "bCrpD66sXsYq",
        "colab_type": "code",
        "colab": {}
      },
      "cell_type": "code",
      "source": [
        "def visualize_boxes(image_path):\n",
        "\n",
        "  with detection_graph.as_default():\n",
        "    with tf.Session(graph=detection_graph) as sess:\n",
        "      # configure tf object detection API for boxes, scores, classes, and num of detections\n",
        "      \n",
        "      sess.run(tf.global_variables_initializer())\n",
        "      #img = 1\n",
        "      # Definite input and output Tensors for detection_graph\n",
        "      image_tensor = detection_graph.get_tensor_by_name('image_tensor:0')\n",
        "      # Each box represents a part of the image where a particular object was detected.\n",
        "      detection_boxes = detection_graph.get_tensor_by_name('detection_boxes:0')\n",
        "      # Each score represent how level of confidence for each of the objects.\n",
        "      # Score is shown on the result image, together with the class label.\n",
        "      detection_scores = detection_graph.get_tensor_by_name('detection_scores:0')\n",
        "      detection_classes = detection_graph.get_tensor_by_name('detection_classes:0')\n",
        "      num_detections = detection_graph.get_tensor_by_name('num_detections:0')\n",
        "      \n",
        "      image = Image.open(image_path)\n",
        "      image_np = load_image_into_numpy_array(image)\n",
        "              \n",
        "        # the array based representation of the image will be used later in order to prepare the\n",
        "        # result image with boxes and labels on it.\n",
        "      image_np = load_image_into_numpy_array(image)\n",
        "        # Expand dimensions since the model expects images to have shape: [1, None, None, 3]\n",
        "      image_np_expanded = np.expand_dims(image_np, axis=0)\n",
        "        \n",
        "        \n",
        "        # Actual detection.\n",
        "      (boxes, scores, classes, num) = sess.run(\n",
        "          [detection_boxes, detection_scores, detection_classes, num_detections],\n",
        "          feed_dict={image_tensor: image_np_expanded})# Visualization of the results of a detection.\n",
        "      \n",
        "      vis_util.visualize_boxes_and_labels_on_image_array(\n",
        "          image_np,\n",
        "          np.squeeze(boxes),\n",
        "          np.squeeze(classes).astype(np.int32),\n",
        "          np.squeeze(scores),\n",
        "          category_index,\n",
        "          min_score_thresh=0.,\n",
        "          use_normalized_coordinates=True,\n",
        "          line_thickness=8)\n",
        "      \n",
        "      plt.figure(figsize=IMAGE_SIZE)\n",
        "      plt.imshow(image_np)\n",
        "      \n",
        "      scipy.misc.imsave('object_detection/output_imgs/' + os.path.split(image_path)[1], image_np) # save csv to a different directory than annotated images\n"
      ],
      "execution_count": 0,
      "outputs": []
    },
    {
      "metadata": {
        "id": "NwKZFXt4YoHE",
        "colab_type": "code",
        "outputId": "3aa1542d-36a6-4ba3-a254-57b0e76fcaaf",
        "colab": {
          "base_uri": "https://localhost:8080/",
          "height": 66
        }
      },
      "cell_type": "code",
      "source": [
        "visualize_boxes('object_detection/input_imgs/blocked/2016-10-12 125255 cam135.png')"
      ],
      "execution_count": 19,
      "outputs": [
        {
          "output_type": "stream",
          "text": [
            "/usr/local/lib/python3.6/dist-packages/ipykernel_launcher.py:47: DeprecationWarning: `imsave` is deprecated!\n",
            "`imsave` is deprecated in SciPy 1.0.0, and will be removed in 1.2.0.\n",
            "Use ``imageio.imwrite`` instead.\n"
          ],
          "name": "stderr"
        }
      ]
    }
  ]
}