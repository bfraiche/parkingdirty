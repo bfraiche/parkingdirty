{
  "nbformat": 4,
  "nbformat_minor": 0,
  "metadata": {
    "colab": {
      "name": "object_detection.ipynb",
      "version": "0.3.2",
      "provenance": [],
      "collapsed_sections": [],
      "toc_visible": true,
      "include_colab_link": true
    },
    "kernelspec": {
      "name": "python3",
      "display_name": "Python 3"
    },
    "accelerator": "GPU"
  },
  "cells": [
    {
      "cell_type": "markdown",
      "metadata": {
        "id": "view-in-github",
        "colab_type": "text"
      },
      "source": [
        "<a href=\"https://colab.research.google.com/github/danbernstein/parkingdirty/blob/master/object_detection.ipynb\" target=\"_parent\"><img src=\"https://colab.research.google.com/assets/colab-badge.svg\" alt=\"Open In Colab\"/></a>"
      ]
    },
    {
      "metadata": {
        "id": "smQWTwI7k4Bf",
        "colab_type": "text"
      },
      "cell_type": "markdown",
      "source": [
        "# Step 1\n",
        "**Object Detection API configuration**: In this step, the model for object detection is downloaded, also some copying and deletion of references are done to leave the whole scheme configured."
      ]
    },
    {
      "metadata": {
        "id": "XnBVJiIzYune",
        "colab_type": "code",
        "colab": {}
      },
      "cell_type": "code",
      "source": [
        "!git clone https://github.com/tensorflow/models.git\n",
        "!apt-get -qq install libprotobuf-java protobuf-compiler\n",
        "!protoc ./models/research/object_detection/protos/string_int_label_map.proto --python_out=.\n",
        "!cp -R models/research/object_detection/ object_detection/\n",
        "!rm -rf models"
      ],
      "execution_count": 0,
      "outputs": []
    },
    {
      "metadata": {
        "id": "qwWt0kSihqCv",
        "colab_type": "text"
      },
      "cell_type": "markdown",
      "source": [
        "# Step 2\n",
        "\n",
        "**Imports** needed to run the Object Detection API demonstration"
      ]
    },
    {
      "metadata": {
        "id": "YspILW_rZu0v",
        "colab_type": "code",
        "colab": {}
      },
      "cell_type": "code",
      "source": [
        "import numpy as np\n",
        "import os\n",
        "import six.moves.urllib as urllib\n",
        "import sys\n",
        "import tarfile\n",
        "import tensorflow as tf\n",
        "import zipfile\n",
        "\n",
        "from collections import defaultdict\n",
        "from io import StringIO\n",
        "from matplotlib import pyplot as plt\n",
        "\n",
        "from PIL import Image\n",
        "\n",
        "from object_detection.utils import label_map_util\n",
        "from object_detection.utils import visualization_utils as vis_util"
      ],
      "execution_count": 0,
      "outputs": []
    },
    {
      "metadata": {
        "id": "kGx_08UcmtOF",
        "colab_type": "text"
      },
      "cell_type": "markdown",
      "source": [
        "# Step 3\n",
        "**Configuration** of the model to use, path to the frozen inference graph and extra config elements for the Object detection API implementation."
      ]
    },
    {
      "metadata": {
        "id": "8n_alUkLZ1gl",
        "colab_type": "code",
        "colab": {}
      },
      "cell_type": "code",
      "source": [
        "# What model to download.\n",
        "# MODEL_NAME = 'ssd_mobilenet_v1_coco_2017_11_17'\n",
        "\n",
        "# model with more accurancy but up to you use a diferent model\n",
        "MODEL_NAME = 'faster_rcnn_inception_resnet_v2_atrous_coco_2017_11_08'\n",
        "\n",
        "MODEL_FILE = MODEL_NAME + '.tar.gz'\n",
        "DOWNLOAD_BASE = 'http://download.tensorflow.org/models/object_detection/'\n",
        "\n",
        "# Path to frozen detection graph. This is the actual model that is used for the object detection.\n",
        "PATH_TO_CKPT = MODEL_NAME + '/frozen_inference_graph.pb'\n",
        "\n",
        "# List of the strings that is used to add correct label for each box.\n",
        "PATH_TO_LABELS = os.path.join('object_detection/data', 'mscoco_label_map.pbtxt')\n",
        "\n",
        "NUM_CLASSES = 90\n",
        "\n",
        "opener = urllib.request.URLopener()\n",
        "opener.retrieve(DOWNLOAD_BASE + MODEL_FILE, MODEL_FILE)\n",
        "tar_file = tarfile.open(MODEL_FILE)\n",
        "for file in tar_file.getmembers():\n",
        "  file_name = os.path.basename(file.name)\n",
        "  if 'frozen_inference_graph.pb' in file_name:\n",
        "    tar_file.extract(file, os.getcwd())\n",
        "    \n",
        "detection_graph = tf.Graph()\n",
        "with detection_graph.as_default():\n",
        "  od_graph_def = tf.GraphDef()\n",
        "  with tf.gfile.GFile(PATH_TO_CKPT, 'rb') as fid:\n",
        "    serialized_graph = fid.read()\n",
        "    od_graph_def.ParseFromString(serialized_graph)\n",
        "    tf.import_graph_def(od_graph_def, name='')\n",
        "    \n",
        "label_map = label_map_util.load_labelmap(PATH_TO_LABELS)\n",
        "categories = label_map_util.convert_label_map_to_categories(label_map, max_num_classes=NUM_CLASSES, use_display_name=True)\n",
        "category_index = label_map_util.create_category_index(categories)"
      ],
      "execution_count": 0,
      "outputs": []
    },
    {
      "metadata": {
        "id": "UMPG4y0dbQC1",
        "colab_type": "code",
        "colab": {}
      },
      "cell_type": "code",
      "source": [
        "def load_image_into_numpy_array(image):\n",
        "  (im_width, im_height) = image.size\n",
        "  return np.array(image.getdata()).reshape(\n",
        "      (im_height, im_width, 3)).astype(np.uint8)"
      ],
      "execution_count": 0,
      "outputs": []
    },
    {
      "metadata": {
        "id": "PbXKPFiWh1jG",
        "colab_type": "text"
      },
      "cell_type": "markdown",
      "source": [
        "# Step 4\n",
        "Section with demo images enviroment"
      ]
    },
    {
      "metadata": {
        "id": "i7OblrH2aMJy",
        "colab_type": "code",
        "colab": {}
      },
      "cell_type": "code",
      "source": [
        "# For the sake of simplicity we will use only 2 images:\n",
        "# image1.jpg\n",
        "# image2.jpg\n",
        "# If you want to test the code with your images, just add path to the images to the TEST_IMAGE_PATHS.\n",
        "PATH_TO_TEST_IMAGES_DIR = 'object_detection/test_images'\n",
        "TEST_IMAGE_PATHS = [ os.path.join(PATH_TO_TEST_IMAGES_DIR, '2016-09-16 154115 cam135.png'.format(i)) for i in range(1, 3) ]\n",
        "\n",
        "# Size, in inches, of the output images.\n",
        "IMAGE_SIZE = (12, 8)"
      ],
      "execution_count": 0,
      "outputs": []
    },
    {
      "metadata": {
        "id": "_Vvi4-2fm2qe",
        "colab_type": "text"
      },
      "cell_type": "markdown",
      "source": [
        "# Step 5\n",
        "piece of code that represent the concrete detection, calling the TF session"
      ]
    },
    {
      "metadata": {
        "id": "q9FZsaZkaPUz",
        "colab_type": "code",
        "colab": {}
      },
      "cell_type": "code",
      "source": [
        "with detection_graph.as_default():\n",
        "  with tf.Session(graph=detection_graph) as sess:\n",
        "    sess.run(tf.global_variables_initializer())\n",
        "    img = 1\n",
        "    # Definite input and output Tensors for detection_graph\n",
        "    image_tensor = detection_graph.get_tensor_by_name('image_tensor:0')\n",
        "    # Each box represents a part of the image where a particular object was detected.\n",
        "    detection_boxes = detection_graph.get_tensor_by_name('detection_boxes:0')\n",
        "    # Each score represent how level of confidence for each of the objects.\n",
        "    # Score is shown on the result image, together with the class label.\n",
        "    detection_scores = detection_graph.get_tensor_by_name('detection_scores:0')\n",
        "    detection_classes = detection_graph.get_tensor_by_name('detection_classes:0')\n",
        "    num_detections = detection_graph.get_tensor_by_name('num_detections:0')\n",
        "    for image_path in TEST_IMAGE_PATHS:\n",
        "      image = Image.open(image_path)\n",
        "      # the array based representation of the image will be used later in order to prepare the\n",
        "      # result image with boxes and labels on it.\n",
        "      image_np = load_image_into_numpy_array(image)\n",
        "      # Expand dimensions since the model expects images to have shape: [1, None, None, 3]\n",
        "      image_np_expanded = np.expand_dims(image_np, axis=0)\n",
        "      # Actual detection.\n",
        "      (boxes, scores, classes, num) = sess.run(\n",
        "          [detection_boxes, detection_scores, detection_classes, num_detections],\n",
        "          feed_dict={image_tensor: image_np_expanded})\n",
        "      "
      ],
      "execution_count": 0,
      "outputs": []
    },
    {
      "metadata": {
        "id": "RCBlIRt403KE",
        "colab_type": "code",
        "colab": {
          "base_uri": "https://localhost:8080/",
          "height": 86
        },
        "outputId": "8c2e91af-6702-4528-c5fe-97f0a39f3661"
      },
      "cell_type": "code",
      "source": [
        "# Visualization of the results of a detection.\n",
        "      vis_util.visualize_boxes_and_labels_on_image_array(\n",
        "          image_np,\n",
        "          np.squeeze(boxes),\n",
        "          np.squeeze(classes).astype(np.int32),\n",
        "          np.squeeze(scores),\n",
        "          category_index,\n",
        "          min_score_thresh=0.4,\n",
        "          use_normalized_coordinates=True,\n",
        "          line_thickness=8)\n",
        "      \n",
        "      plt.plot(lane, color = 'red')\n",
        "\n",
        "      plt.figure(figsize=IMAGE_SIZE)\n",
        "      plt.imshow(image_np)\n",
        "      \n",
        "      plt.imsave('object_detection/test_images/' + 'out' + '.jpg', image_np)\n",
        "      img += 1\n",
        "\n",
        "      \n",
        "      scores = np.squeeze(scores)\n",
        "      boxes = np.squeeze(boxes)\n",
        "      # Return found objects\n",
        "      print([category_index.get(i) for i in classes[0]])\n",
        "      print(boxes.shape)\n",
        "      print(num)\n"
      ],
      "execution_count": 37,
      "outputs": [
        {
          "output_type": "stream",
          "text": [
            "[{'id': 3, 'name': 'car'}, {'id': 8, 'name': 'truck'}, {'id': 3, 'name': 'car'}, {'id': 8, 'name': 'truck'}, {'id': 6, 'name': 'bus'}, {'id': 6, 'name': 'bus'}, {'id': 28, 'name': 'umbrella'}, {'id': 8, 'name': 'truck'}, {'id': 3, 'name': 'car'}, {'id': 6, 'name': 'bus'}, {'id': 8, 'name': 'truck'}, {'id': 1, 'name': 'person'}, {'id': 3, 'name': 'car'}, {'id': 8, 'name': 'truck'}, {'id': 3, 'name': 'car'}, {'id': 8, 'name': 'truck'}, {'id': 8, 'name': 'truck'}, {'id': 6, 'name': 'bus'}, {'id': 3, 'name': 'car'}, {'id': 1, 'name': 'person'}, {'id': 1, 'name': 'person'}, {'id': 3, 'name': 'car'}, {'id': 7, 'name': 'train'}, {'id': 8, 'name': 'truck'}, {'id': 3, 'name': 'car'}, {'id': 6, 'name': 'bus'}, {'id': 1, 'name': 'person'}, {'id': 6, 'name': 'bus'}, {'id': 3, 'name': 'car'}, {'id': 6, 'name': 'bus'}, {'id': 1, 'name': 'person'}, {'id': 3, 'name': 'car'}, {'id': 1, 'name': 'person'}, {'id': 1, 'name': 'person'}, {'id': 1, 'name': 'person'}, {'id': 3, 'name': 'car'}, {'id': 1, 'name': 'person'}, {'id': 3, 'name': 'car'}, {'id': 8, 'name': 'truck'}, {'id': 8, 'name': 'truck'}, {'id': 1, 'name': 'person'}, {'id': 1, 'name': 'person'}, {'id': 1, 'name': 'person'}, {'id': 3, 'name': 'car'}, {'id': 3, 'name': 'car'}, {'id': 1, 'name': 'person'}, {'id': 8, 'name': 'truck'}, {'id': 8, 'name': 'truck'}, {'id': 1, 'name': 'person'}, {'id': 3, 'name': 'car'}, {'id': 8, 'name': 'truck'}, {'id': 3, 'name': 'car'}, {'id': 1, 'name': 'person'}, {'id': 3, 'name': 'car'}, {'id': 3, 'name': 'car'}, {'id': 8, 'name': 'truck'}, {'id': 3, 'name': 'car'}, {'id': 8, 'name': 'truck'}, {'id': 3, 'name': 'car'}, {'id': 1, 'name': 'person'}, {'id': 3, 'name': 'car'}, {'id': 1, 'name': 'person'}, {'id': 1, 'name': 'person'}, {'id': 3, 'name': 'car'}, {'id': 3, 'name': 'car'}, {'id': 3, 'name': 'car'}, {'id': 3, 'name': 'car'}, {'id': 3, 'name': 'car'}, {'id': 1, 'name': 'person'}, {'id': 8, 'name': 'truck'}, {'id': 3, 'name': 'car'}, {'id': 8, 'name': 'truck'}, {'id': 1, 'name': 'person'}, {'id': 3, 'name': 'car'}, {'id': 3, 'name': 'car'}, {'id': 3, 'name': 'car'}, {'id': 6, 'name': 'bus'}, {'id': 1, 'name': 'person'}, {'id': 8, 'name': 'truck'}, {'id': 8, 'name': 'truck'}, {'id': 9, 'name': 'boat'}, {'id': 3, 'name': 'car'}, {'id': 3, 'name': 'car'}, {'id': 8, 'name': 'truck'}, {'id': 3, 'name': 'car'}, {'id': 3, 'name': 'car'}, {'id': 6, 'name': 'bus'}, {'id': 1, 'name': 'person'}, {'id': 3, 'name': 'car'}, {'id': 10, 'name': 'traffic light'}, {'id': 8, 'name': 'truck'}, {'id': 6, 'name': 'bus'}, {'id': 3, 'name': 'car'}, {'id': 1, 'name': 'person'}, {'id': 3, 'name': 'car'}, {'id': 3, 'name': 'car'}, {'id': 1, 'name': 'person'}, {'id': 3, 'name': 'car'}, {'id': 1, 'name': 'person'}, {'id': 3, 'name': 'car'}]\n",
            "(100, 4)\n",
            "[100.]\n"
          ],
          "name": "stdout"
        }
      ]
    },
    {
      "metadata": {
        "id": "KKopAfFd2mw7",
        "colab_type": "code",
        "colab": {
          "base_uri": "https://localhost:8080/",
          "height": 33
        },
        "outputId": "6551215d-2f26-400c-c300-c0ac558f809a"
      },
      "cell_type": "code",
      "source": [
        "  num_cars_in_bikelane, num_cars_in_bus_stop, num_bikes_in_bike_lane, num_trucks_in_bus_stop = 0, 0, 0, 0\n",
        "  import matplotlib.path as mpltPath\n",
        "\n",
        "  lane = np.array([[156,284],[110,286],[257,154],[274,156]])\n",
        "  pathrightlane = mpltPath.Path(lane)\n",
        "\n",
        "# analyzing the detected objects for which are in the bikelane and converting into a tabular format \n",
        "  \n",
        "  for i in range(boxes.shape[0]):\n",
        "     if scores[i] > .4:\n",
        "        box = tuple(boxes[i].tolist())\n",
        "        #print(box)\n",
        "        \n",
        "        ymin, xmin, ymax, xmax = box\n",
        "\n",
        "        center_x = (((xmax * 352) - (xmin * 352)) / 2) + (xmin * 352)\n",
        "        center_y = (((ymax * 288) - (ymin * 288)) / 2) + (ymin * 288)\n",
        "        points = [(center_x, center_y)]\n",
        "\n",
        "        \n",
        "        classes_int = np.squeeze(classes).astype(np.int32)\n",
        "\n",
        "        if classes_int[i] in category_index.keys():\n",
        "                            class_name = category_index[classes_int[i]]['name']  \n",
        "          \n",
        "        #print(class_name)\n",
        "        if class_name in {'car', 'truck', 'bus', 'motorcycle','person'}:\n",
        "          if pathrightlane.contains_points(points):\n",
        "              num_cars_in_bikelane += 1\n",
        "        if class_name == 'bicycle':\n",
        "          points = [(center_x, center_y)]\n",
        "          if pathrightlane.contains_points(points):\n",
        "              num_bikes_in_bike_lane += 1      \n",
        "         \n",
        "  print(num_cars_in_bikelane, num_bikes_in_bike_lane)\n",
        "                        "
      ],
      "execution_count": 44,
      "outputs": [
        {
          "output_type": "stream",
          "text": [
            "3 0\n"
          ],
          "name": "stdout"
        }
      ]
    },
    {
      "metadata": {
        "id": "oSnTiUgehv8E",
        "colab_type": "code",
        "colab": {}
      },
      "cell_type": "code",
      "source": [
        "# get center of each box detection and align with the bike_lane status as coded by humans to see how it lines up"
      ],
      "execution_count": 0,
      "outputs": []
    },
    {
      "metadata": {
        "id": "_Q2oVHyB08tO",
        "colab_type": "code",
        "colab": {}
      },
      "cell_type": "code",
      "source": [
        "#calculate total time of blockage"
      ],
      "execution_count": 0,
      "outputs": []
    },
    {
      "metadata": {
        "id": "QRa4EOEKm_gW",
        "colab_type": "text"
      },
      "cell_type": "markdown",
      "source": [
        "# Custom Personal Images "
      ]
    },
    {
      "metadata": {
        "id": "b8xKj6o-7pUJ",
        "colab_type": "code",
        "colab": {}
      },
      "cell_type": "code",
      "source": [
        "!mkdir images"
      ],
      "execution_count": 0,
      "outputs": []
    },
    {
      "metadata": {
        "id": "pswZMJ3GhUD7",
        "colab_type": "code",
        "colab": {}
      },
      "cell_type": "code",
      "source": [
        "!wget http://farm6.staticflickr.com/5485/9424913933_2d24e654ac_z.jpg -O images/custom_img_2.jpg"
      ],
      "execution_count": 0,
      "outputs": []
    },
    {
      "metadata": {
        "id": "22lHSzdmg6Rz",
        "colab_type": "code",
        "colab": {}
      },
      "cell_type": "code",
      "source": [
        "!wget http://farm4.staticflickr.com/3674/9412766091_03a2e22443_z.jpg -O images/custom_img_1.jpg"
      ],
      "execution_count": 0,
      "outputs": []
    },
    {
      "metadata": {
        "id": "Y0Dngt6Dd-H0",
        "colab_type": "code",
        "colab": {}
      },
      "cell_type": "code",
      "source": [
        "!ls ./images/"
      ],
      "execution_count": 0,
      "outputs": []
    },
    {
      "metadata": {
        "id": "rrEF8Vt3iT26",
        "colab_type": "code",
        "colab": {}
      },
      "cell_type": "code",
      "source": [
        "PATH_TO_TEST_IMAGES_DIR = 'images'\n",
        "TEST_IMAGE_PATHS = [ os.path.join(PATH_TO_TEST_IMAGES_DIR, 'custom_img_{}.jpg'.format(i)) for i in range(1, 3) ]\n",
        "\n",
        "IMAGE_SIZE = (12, 8)"
      ],
      "execution_count": 0,
      "outputs": []
    },
    {
      "metadata": {
        "id": "LWBRVOMHi0Hw",
        "colab_type": "code",
        "colab": {}
      },
      "cell_type": "code",
      "source": [
        "with detection_graph.as_default():\n",
        "  with tf.Session(graph=detection_graph) as sess:\n",
        "    image_tensor = detection_graph.get_tensor_by_name('image_tensor:0')\n",
        "    detection_boxes = detection_graph.get_tensor_by_name('detection_boxes:0')\n",
        "    detection_scores = detection_graph.get_tensor_by_name('detection_scores:0')\n",
        "    detection_classes = detection_graph.get_tensor_by_name('detection_classes:0')\n",
        "    num_detections = detection_graph.get_tensor_by_name('num_detections:0')\n",
        "    for image_path in TEST_IMAGE_PATHS:\n",
        "      image = Image.open(image_path)\n",
        "      image_np = load_image_into_numpy_array(image)\n",
        "      image_np_expanded = np.expand_dims(image_np, axis=0)\n",
        "      (boxes, scores, classes, num) = sess.run(\n",
        "          [detection_boxes, detection_scores, detection_classes, num_detections],\n",
        "          feed_dict={image_tensor: image_np_expanded})\n",
        "      vis_util.visualize_boxes_and_labels_on_image_array(\n",
        "          image_np,\n",
        "          np.squeeze(boxes),\n",
        "          np.squeeze(classes).astype(np.int32),\n",
        "          np.squeeze(scores),\n",
        "          category_index,\n",
        "          use_normalized_coordinates=True,\n",
        "          line_thickness=8)\n",
        "      plt.figure(figsize=IMAGE_SIZE)\n",
        "      plt.imshow(image_np)"
      ],
      "execution_count": 0,
      "outputs": []
    }
  ]
}