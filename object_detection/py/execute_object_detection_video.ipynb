{
  "nbformat": 4,
  "nbformat_minor": 0,
  "metadata": {
    "colab": {
      "name": "execute_object_detection_video.ipynb",
      "version": "0.3.2",
      "provenance": [],
      "collapsed_sections": [],
      "include_colab_link": true
    },
    "kernelspec": {
      "name": "python3",
      "display_name": "Python 3"
    },
    "accelerator": "GPU"
  },
  "cells": [
    {
      "cell_type": "markdown",
      "metadata": {
        "id": "view-in-github",
        "colab_type": "text"
      },
      "source": [
        "<a href=\"https://colab.research.google.com/github/danbernstein/parkingdirty/blob/master/object_detection/py/execute_object_detection_video.ipynb\" target=\"_parent\"><img src=\"https://colab.research.google.com/assets/colab-badge.svg\" alt=\"Open In Colab\"/></a>"
      ]
    },
    {
      "metadata": {
        "id": "nRm7FPDnyujg",
        "colab_type": "code",
        "outputId": "2a737be1-c59f-4e00-eee9-b8515ddc6934",
        "colab": {
          "base_uri": "https://localhost:8080/",
          "height": 267
        }
      },
      "cell_type": "code",
      "source": [
        "!git clone https://github.com/tensorflow/models.git\n",
        "!apt-get -qq install libprotobuf-java protobuf-compiler\n",
        "!protoc ./models/research/object_detection/protos/string_int_label_map.proto --python_out=.\n",
        "!cp -R models/research/object_detection/ object_detection/\n",
        "!rm -rf models\n",
        "!pip install shapely\n",
        "!pip install pascal-voc-writer"
      ],
      "execution_count": 0,
      "outputs": [
        {
          "output_type": "stream",
          "text": [
            "Cloning into 'models'...\n",
            "remote: Enumerating objects: 25087, done.\u001b[K\n",
            "remote: Total 25087 (delta 0), reused 0 (delta 0), pack-reused 25087\u001b[K\n",
            "Receiving objects: 100% (25087/25087), 507.61 MiB | 29.12 MiB/s, done.\n",
            "Resolving deltas: 100% (14969/14969), done.\n",
            "Checking out files: 100% (2862/2862), done.\n",
            "Requirement already satisfied: shapely in /usr/local/lib/python3.6/dist-packages (1.6.4.post2)\n",
            "Collecting pascal-voc-writer\n",
            "  Downloading https://files.pythonhosted.org/packages/9d/82/dd86999e6062fc34478f11ead7a68e6615d7e270b39624547edd1dbaba76/pascal_voc_writer-0.1.4-py2.py3-none-any.whl\n",
            "Requirement already satisfied: jinja2 in /usr/local/lib/python3.6/dist-packages (from pascal-voc-writer) (2.10.1)\n",
            "Requirement already satisfied: MarkupSafe>=0.23 in /usr/local/lib/python3.6/dist-packages (from jinja2->pascal-voc-writer) (1.1.1)\n",
            "Installing collected packages: pascal-voc-writer\n",
            "Successfully installed pascal-voc-writer-0.1.4\n"
          ],
          "name": "stdout"
        }
      ]
    },
    {
      "metadata": {
        "id": "yAZiS6tR2qVf",
        "colab_type": "code",
        "outputId": "be52b1b9-ba9f-4a93-ebcd-63114e1a4113",
        "colab": {
          "base_uri": "https://localhost:8080/",
          "height": 141
        }
      },
      "cell_type": "code",
      "source": [
        "!git clone https://github.com/danbernstein/parkingdirty.git # get functions for this project"
      ],
      "execution_count": 0,
      "outputs": [
        {
          "output_type": "stream",
          "text": [
            "Cloning into 'parkingdirty'...\n",
            "remote: Enumerating objects: 60, done.\u001b[K\n",
            "remote: Counting objects:   1% (1/60)   \u001b[K\rremote: Counting objects:   3% (2/60)   \u001b[K\rremote: Counting objects:   5% (3/60)   \u001b[K\rremote: Counting objects:   6% (4/60)   \u001b[K\rremote: Counting objects:   8% (5/60)   \u001b[K\rremote: Counting objects:  10% (6/60)   \u001b[K\rremote: Counting objects:  11% (7/60)   \u001b[K\rremote: Counting objects:  13% (8/60)   \u001b[K\rremote: Counting objects:  15% (9/60)   \u001b[K\rremote: Counting objects:  16% (10/60)   \u001b[K\rremote: Counting objects:  18% (11/60)   \u001b[K\rremote: Counting objects:  20% (12/60)   \u001b[K\rremote: Counting objects:  21% (13/60)   \u001b[K\rremote: Counting objects:  23% (14/60)   \u001b[K\rremote: Counting objects:  25% (15/60)   \u001b[K\rremote: Counting objects:  26% (16/60)   \u001b[K\rremote: Counting objects:  28% (17/60)   \u001b[K\rremote: Counting objects:  30% (18/60)   \u001b[K\rremote: Counting objects:  31% (19/60)   \u001b[K\rremote: Counting objects:  33% (20/60)   \u001b[K\rremote: Counting objects:  35% (21/60)   \u001b[K\rremote: Counting objects:  36% (22/60)   \u001b[K\rremote: Counting objects:  38% (23/60)   \u001b[K\rremote: Counting objects:  40% (24/60)   \u001b[K\rremote: Counting objects:  41% (25/60)   \u001b[K\rremote: Counting objects:  43% (26/60)   \u001b[K\rremote: Counting objects:  45% (27/60)   \u001b[K\rremote: Counting objects:  46% (28/60)   \u001b[K\rremote: Counting objects:  48% (29/60)   \u001b[K\rremote: Counting objects:  50% (30/60)   \u001b[K\rremote: Counting objects:  51% (31/60)   \u001b[K\rremote: Counting objects:  53% (32/60)   \u001b[K\rremote: Counting objects:  55% (33/60)   \u001b[K\rremote: Counting objects:  56% (34/60)   \u001b[K\rremote: Counting objects:  58% (35/60)   \u001b[K\rremote: Counting objects:  60% (36/60)   \u001b[K\rremote: Counting objects:  61% (37/60)   \u001b[K\rremote: Counting objects:  63% (38/60)   \u001b[K\rremote: Counting objects:  65% (39/60)   \u001b[K\rremote: Counting objects:  66% (40/60)   \u001b[K\rremote: Counting objects:  68% (41/60)   \u001b[K\rremote: Counting objects:  70% (42/60)   \u001b[K\rremote: Counting objects:  71% (43/60)   \u001b[K\rremote: Counting objects:  73% (44/60)   \u001b[K\rremote: Counting objects:  75% (45/60)   \u001b[K\rremote: Counting objects:  76% (46/60)   \u001b[K\rremote: Counting objects:  78% (47/60)   \u001b[K\rremote: Counting objects:  80% (48/60)   \u001b[K\rremote: Counting objects:  81% (49/60)   \u001b[K\rremote: Counting objects:  83% (50/60)   \u001b[K\rremote: Counting objects:  85% (51/60)   \u001b[K\rremote: Counting objects:  86% (52/60)   \u001b[K\rremote: Counting objects:  88% (53/60)   \u001b[K\rremote: Counting objects:  90% (54/60)   \u001b[K\rremote: Counting objects:  91% (55/60)   \u001b[K\rremote: Counting objects:  93% (56/60)   \u001b[K\rremote: Counting objects:  95% (57/60)   \u001b[K\rremote: Counting objects:  96% (58/60)   \u001b[K\rremote: Counting objects:  98% (59/60)   \u001b[K\rremote: Counting objects: 100% (60/60)   \u001b[K\rremote: Counting objects: 100% (60/60), done.\u001b[K\n",
            "remote: Compressing objects:   1% (1/60)   \u001b[K\rremote: Compressing objects:   3% (2/60)   \u001b[K\rremote: Compressing objects:   5% (3/60)   \u001b[K\rremote: Compressing objects:   6% (4/60)   \u001b[K\rremote: Compressing objects:   8% (5/60)   \u001b[K\rremote: Compressing objects:  10% (6/60)   \u001b[K\rremote: Compressing objects:  11% (7/60)   \u001b[K\rremote: Compressing objects:  13% (8/60)   \u001b[K\rremote: Compressing objects:  15% (9/60)   \u001b[K\rremote: Compressing objects:  16% (10/60)   \u001b[K\rremote: Compressing objects:  18% (11/60)   \u001b[K\rremote: Compressing objects:  20% (12/60)   \u001b[K\rremote: Compressing objects:  21% (13/60)   \u001b[K\rremote: Compressing objects:  23% (14/60)   \u001b[K\rremote: Compressing objects:  25% (15/60)   \u001b[K\rremote: Compressing objects:  26% (16/60)   \u001b[K\rremote: Compressing objects:  28% (17/60)   \u001b[K\rremote: Compressing objects:  30% (18/60)   \u001b[K\rremote: Compressing objects:  31% (19/60)   \u001b[K\rremote: Compressing objects:  33% (20/60)   \u001b[K\rremote: Compressing objects:  35% (21/60)   \u001b[K\rremote: Compressing objects:  36% (22/60)   \u001b[K\rremote: Compressing objects:  38% (23/60)   \u001b[K\rremote: Compressing objects:  40% (24/60)   \u001b[K\rremote: Compressing objects:  41% (25/60)   \u001b[K\rremote: Compressing objects:  43% (26/60)   \u001b[K\rremote: Compressing objects:  45% (27/60)   \u001b[K\rremote: Compressing objects:  46% (28/60)   \u001b[K\rremote: Compressing objects:  48% (29/60)   \u001b[K\rremote: Compressing objects:  50% (30/60)   \u001b[K\rremote: Compressing objects:  51% (31/60)   \u001b[K\rremote: Compressing objects:  53% (32/60)   \u001b[K\rremote: Compressing objects:  55% (33/60)   \u001b[K\rremote: Compressing objects:  56% (34/60)   \u001b[K\rremote: Compressing objects:  58% (35/60)   \u001b[K\rremote: Compressing objects:  60% (36/60)   \u001b[K\rremote: Compressing objects:  61% (37/60)   \u001b[K\rremote: Compressing objects:  63% (38/60)   \u001b[K\rremote: Compressing objects:  65% (39/60)   \u001b[K\rremote: Compressing objects:  66% (40/60)   \u001b[K\rremote: Compressing objects:  68% (41/60)   \u001b[K\rremote: Compressing objects:  70% (42/60)   \u001b[K\rremote: Compressing objects:  71% (43/60)   \u001b[K\rremote: Compressing objects:  73% (44/60)   \u001b[K\rremote: Compressing objects:  75% (45/60)   \u001b[K\rremote: Compressing objects:  76% (46/60)   \u001b[K\rremote: Compressing objects:  78% (47/60)   \u001b[K\rremote: Compressing objects:  80% (48/60)   \u001b[K\rremote: Compressing objects:  81% (49/60)   \u001b[K\rremote: Compressing objects:  83% (50/60)   \u001b[K\rremote: Compressing objects:  85% (51/60)   \u001b[K\rremote: Compressing objects:  86% (52/60)   \u001b[K\rremote: Compressing objects:  88% (53/60)   \u001b[K\rremote: Compressing objects:  90% (54/60)   \u001b[K\rremote: Compressing objects:  91% (55/60)   \u001b[K\rremote: Compressing objects:  93% (56/60)   \u001b[K\rremote: Compressing objects:  95% (57/60)   \u001b[K\rremote: Compressing objects:  96% (58/60)   \u001b[K\rremote: Compressing objects:  98% (59/60)   \u001b[K\rremote: Compressing objects: 100% (60/60)   \u001b[K\rremote: Compressing objects: 100% (60/60), done.\u001b[K\n",
            "Receiving objects:   0% (1/217)   \rReceiving objects:   1% (3/217)   \rReceiving objects:   2% (5/217)   \rReceiving objects:   3% (7/217)   \rReceiving objects:   4% (9/217)   \rReceiving objects:   5% (11/217)   \rReceiving objects:   6% (14/217)   \rReceiving objects:   7% (16/217)   \rReceiving objects:   8% (18/217)   \rReceiving objects:   9% (20/217)   \rReceiving objects:  10% (22/217)   \rReceiving objects:  11% (24/217)   \rReceiving objects:  12% (27/217)   \rReceiving objects:  13% (29/217)   \rReceiving objects:  14% (31/217)   \rReceiving objects:  15% (33/217)   \rReceiving objects:  16% (35/217)   \rReceiving objects:  17% (37/217)   \rReceiving objects:  18% (40/217)   \rReceiving objects:  19% (42/217)   \rReceiving objects:  20% (44/217)   \rReceiving objects:  21% (46/217)   \rReceiving objects:  22% (48/217)   \rReceiving objects:  23% (50/217)   \rReceiving objects:  24% (53/217)   \rReceiving objects:  25% (55/217)   \rReceiving objects:  26% (57/217)   \rReceiving objects:  27% (59/217)   \rReceiving objects:  28% (61/217)   \rReceiving objects:  29% (63/217)   \rReceiving objects:  30% (66/217)   \rReceiving objects:  31% (68/217)   \rReceiving objects:  32% (70/217)   \rReceiving objects:  33% (72/217)   \rReceiving objects:  34% (74/217)   \rReceiving objects:  35% (76/217)   \rReceiving objects:  36% (79/217)   \rReceiving objects:  37% (81/217)   \rReceiving objects:  38% (83/217)   \rReceiving objects:  39% (85/217)   \rReceiving objects:  40% (87/217)   \rReceiving objects:  41% (89/217)   \rReceiving objects:  42% (92/217)   \rReceiving objects:  43% (94/217)   \rReceiving objects:  44% (96/217)   \rReceiving objects:  45% (98/217)   \rReceiving objects:  46% (100/217)   \rReceiving objects:  47% (102/217)   \rReceiving objects:  48% (105/217)   \rReceiving objects:  49% (107/217)   \rReceiving objects:  50% (109/217)   \rReceiving objects:  51% (111/217)   \rReceiving objects:  52% (113/217)   \rReceiving objects:  53% (116/217)   \rReceiving objects:  54% (118/217)   \rremote: Total 217 (delta 38), reused 0 (delta 0), pack-reused 157\u001b[K\n",
            "Receiving objects:  55% (120/217)   \rReceiving objects:  56% (122/217)   \rReceiving objects:  57% (124/217)   \rReceiving objects:  58% (126/217)   \rReceiving objects:  59% (129/217)   \rReceiving objects:  60% (131/217)   \rReceiving objects:  61% (133/217)   \rReceiving objects:  62% (135/217)   \rReceiving objects:  63% (137/217)   \rReceiving objects:  64% (139/217)   \rReceiving objects:  65% (142/217)   \rReceiving objects:  66% (144/217)   \rReceiving objects:  67% (146/217)   \rReceiving objects:  68% (148/217)   \rReceiving objects:  69% (150/217)   \rReceiving objects:  70% (152/217)   \rReceiving objects:  71% (155/217)   \rReceiving objects:  72% (157/217)   \rReceiving objects:  73% (159/217)   \rReceiving objects:  74% (161/217)   \rReceiving objects:  75% (163/217)   \rReceiving objects:  76% (165/217)   \rReceiving objects:  77% (168/217)   \rReceiving objects:  78% (170/217)   \rReceiving objects:  79% (172/217)   \rReceiving objects:  80% (174/217)   \rReceiving objects:  81% (176/217)   \rReceiving objects:  82% (178/217)   \rReceiving objects:  83% (181/217)   \rReceiving objects:  84% (183/217)   \rReceiving objects:  85% (185/217)   \rReceiving objects:  86% (187/217)   \rReceiving objects:  87% (189/217)   \rReceiving objects:  88% (191/217)   \rReceiving objects:  89% (194/217)   \rReceiving objects:  90% (196/217)   \rReceiving objects:  91% (198/217)   \rReceiving objects:  92% (200/217)   \rReceiving objects:  93% (202/217)   \rReceiving objects:  94% (204/217)   \rReceiving objects:  95% (207/217)   \rReceiving objects:  96% (209/217)   \rReceiving objects:  97% (211/217)   \rReceiving objects:  98% (213/217)   \rReceiving objects:  99% (215/217)   \rReceiving objects: 100% (217/217)   \rReceiving objects: 100% (217/217), 6.06 MiB | 33.90 MiB/s, done.\n",
            "Resolving deltas:   0% (0/107)   \rResolving deltas:   4% (5/107)   \rResolving deltas:   9% (10/107)   \rResolving deltas:  11% (12/107)   \rResolving deltas:  21% (23/107)   \rResolving deltas:  22% (24/107)   \rResolving deltas:  23% (25/107)   \rResolving deltas:  24% (26/107)   \rResolving deltas:  48% (52/107)   \rResolving deltas:  49% (53/107)   \rResolving deltas:  50% (54/107)   \rResolving deltas:  52% (56/107)   \rResolving deltas:  71% (76/107)   \rResolving deltas:  92% (99/107)   \rResolving deltas: 100% (107/107)   \rResolving deltas: 100% (107/107), done.\n"
          ],
          "name": "stdout"
        }
      ]
    },
    {
      "metadata": {
        "id": "y-fNSUJb2Yo7",
        "colab_type": "code",
        "colab": {}
      },
      "cell_type": "code",
      "source": [
        "import shutil\n",
        "shutil.rmtree('parkingdirty')"
      ],
      "execution_count": 0,
      "outputs": []
    },
    {
      "metadata": {
        "id": "v_E8hSbRzAb0",
        "colab_type": "code",
        "colab": {}
      },
      "cell_type": "code",
      "source": [
        "# make the custom functions available here\n",
        "exec(open(\"parkingdirty/object_detection_functions.py\").read())\n",
        "exec(open(\"parkingdirty/object_detection_video_functions.py\").read())\n",
        "\n",
        "# set up the model\n",
        "# model selected here: https://github.com/tensorflow/models/blob/master/research/object_detection/g3doc/detection_model_zoo.md\n",
        "#detection_graph, label_map, categories, category_index = set_up_model('ssd_mobilenet_v1_coco_2018_01_28')\n",
        "\n",
        "#image_tensor, detection_boxes, detection_scores, detection_classes, num_detections = set_up_detection(sess, detection_graph)\n",
        "\n",
        "# run the detection and classification processing\n",
        "# args: detection_graph from set_up_model(), the input dir, output dir, threshold for obstacle detection, and number of images to process\n",
        "process_video('parkingdirty/out-2.avi', detection_graph, 0.4, [[62,470],[312,162],[294,162],[18,438],[13,473]])"
      ],
      "execution_count": 0,
      "outputs": []
    },
    {
      "metadata": {
        "id": "U13ZrsKVkPiF",
        "colab_type": "code",
        "colab": {}
      },
      "cell_type": "code",
      "source": [
        "get_first_frame('parkingdirty/out-2.avi')"
      ],
      "execution_count": 0,
      "outputs": []
    }
  ]
}