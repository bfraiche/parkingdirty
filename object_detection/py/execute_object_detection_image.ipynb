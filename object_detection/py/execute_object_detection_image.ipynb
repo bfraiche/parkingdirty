{
  "nbformat": 4,
  "nbformat_minor": 0,
  "metadata": {
    "colab": {
      "name": "execute_object_detection_image.ipynb",
      "version": "0.3.2",
      "provenance": [],
      "collapsed_sections": [],
      "include_colab_link": true
    },
    "kernelspec": {
      "name": "python3",
      "display_name": "Python 3"
    },
    "accelerator": "GPU"
  },
  "cells": [
    {
      "cell_type": "markdown",
      "metadata": {
        "id": "view-in-github",
        "colab_type": "text"
      },
      "source": [
        "<a href=\"https://colab.research.google.com/github/danbernstein/parkingdirty/blob/master/object_detection/py/execute_object_detection_image.ipynb\" target=\"_parent\"><img src=\"https://colab.research.google.com/assets/colab-badge.svg\" alt=\"Open In Colab\"/></a>"
      ]
    },
    {
      "metadata": {
        "id": "nRm7FPDnyujg",
        "colab_type": "code",
        "outputId": "d37cbe69-cc22-49af-a3b9-a680163ebac7",
        "colab": {
          "base_uri": "https://localhost:8080/",
          "height": 267
        }
      },
      "cell_type": "code",
      "source": [
        "!git clone https://github.com/tensorflow/models.git\n",
        "!apt-get -qq install libprotobuf-java protobuf-compiler\n",
        "!protoc ./models/research/object_detection/protos/string_int_label_map.proto --python_out=.\n",
        "!cp -R models/research/object_detection/ object_detection/\n",
        "!rm -rf models\n",
        "!pip install shapely\n",
        "!pip install pascal-voc-writer\n",
        "\n"
      ],
      "execution_count": 0,
      "outputs": [
        {
          "output_type": "stream",
          "text": [
            "Cloning into 'models'...\n",
            "remote: Enumerating objects: 25287, done.\u001b[K\n",
            "remote: Total 25287 (delta 0), reused 0 (delta 0), pack-reused 25287\u001b[K\n",
            "Receiving objects: 100% (25287/25287), 507.67 MiB | 37.16 MiB/s, done.\n",
            "Resolving deltas: 100% (15114/15114), done.\n",
            "Checking out files: 100% (2868/2868), done.\n",
            "Requirement already satisfied: shapely in /usr/local/lib/python3.6/dist-packages (1.6.4.post2)\n",
            "Collecting pascal-voc-writer\n",
            "  Downloading https://files.pythonhosted.org/packages/9d/82/dd86999e6062fc34478f11ead7a68e6615d7e270b39624547edd1dbaba76/pascal_voc_writer-0.1.4-py2.py3-none-any.whl\n",
            "Requirement already satisfied: jinja2 in /usr/local/lib/python3.6/dist-packages (from pascal-voc-writer) (2.10.1)\n",
            "Requirement already satisfied: MarkupSafe>=0.23 in /usr/local/lib/python3.6/dist-packages (from jinja2->pascal-voc-writer) (1.1.1)\n",
            "Installing collected packages: pascal-voc-writer\n",
            "Successfully installed pascal-voc-writer-0.1.4\n"
          ],
          "name": "stdout"
        }
      ]
    },
    {
      "metadata": {
        "id": "5QmhGP-9vuQ7",
        "colab_type": "code",
        "outputId": "1f0050a2-e617-439a-bf51-bc96e4cfa50a",
        "colab": {
          "base_uri": "https://localhost:8080/",
          "height": 123
        }
      },
      "cell_type": "code",
      "source": [
        "!git clone https://github.com/danbernstein/parkingdirty.git "
      ],
      "execution_count": 0,
      "outputs": [
        {
          "output_type": "stream",
          "text": [
            "Cloning into 'parkingdirty'...\n",
            "remote: Enumerating objects: 1, done.\u001b[K\n",
            "remote: Counting objects: 100% (1/1), done.\u001b[K\n",
            "remote: Total 287 (delta 0), reused 0 (delta 0), pack-reused 286\u001b[K\n",
            "Receiving objects: 100% (287/287), 6.07 MiB | 8.46 MiB/s, done.\n",
            "Resolving deltas: 100% (155/155), done.\n"
          ],
          "name": "stdout"
        }
      ]
    },
    {
      "metadata": {
        "id": "y-fNSUJb2Yo7",
        "colab_type": "code",
        "colab": {}
      },
      "cell_type": "code",
      "source": [
        "#shutil.rmtree('parkingdirty')"
      ],
      "execution_count": 0,
      "outputs": []
    },
    {
      "metadata": {
        "id": "v_E8hSbRzAb0",
        "colab_type": "code",
        "outputId": "71f9693c-8e1a-4e72-89cf-5313541e6c04",
        "colab": {
          "base_uri": "https://localhost:8080/",
          "height": 178
        }
      },
      "cell_type": "code",
      "source": [
        "exec(open(\"parkingdirty/object_detection_functions.py\").read())\n",
        "\n",
        "#download_data('full')\n",
        "# set up the model\n",
        "# https://github.com/tensorflow/models/blob/master/research/object_detection/g3doc/detection_model_zoo.md\n",
        "detection_graph, label_map, categories, category_index = set_up_model('ssd_resnet50_v1_fpn_shared_box_predictor_640x640_coco14_sync_2018_07_03')\n",
        "#\n",
        "\n",
        "pattern = 31\n",
        "subset_data(pattern)\n",
        "## run the detection and classification processing\n",
        "## args: detection_graph from set_up_model(), the input dir, output dir, threshold for obstacle detection, and number of images to process\n",
        "## get lane polygon from https://www.image-map.net/\n",
        "process_images(detection_graph, \n",
        "               'object_detection/input_imgs_subset_cam' + str(pattern), # path to subdirectory of images\n",
        "               'object_detection/output_imgs', # where to put output images, if visualization is included\n",
        "               0.4,  # threshold for classification\n",
        "               2, # number of images to process from each folder\n",
        "               [(202,144),(213,145),(351,221),(350,240)])"
      ],
      "execution_count": 0,
      "outputs": [
        {
          "output_type": "stream",
          "text": [
            "/usr/local/lib/python3.6/dist-packages/ipykernel_launcher.py:6: DeprecationWarning: URLopener style of invoking requests is deprecated. Use newer urlopen functions/methods\n",
            "  \n"
          ],
          "name": "stderr"
        },
        {
          "output_type": "stream",
          "text": [
            "model set up successfully\n",
            "starting processing\n",
            "2019-04-22 01:20:15.936323\n",
            "successfully run\n",
            "2019-04-22 01:20:21.401500\n"
          ],
          "name": "stdout"
        },
        {
          "output_type": "execute_result",
          "data": {
            "text/plain": [
              "'object_detection/output_csv/csvfile.csv'"
            ]
          },
          "metadata": {
            "tags": []
          },
          "execution_count": 10
        }
      ]
    },
    {
      "metadata": {
        "id": "x7ONH6It7HBz",
        "colab_type": "code",
        "colab": {}
      },
      "cell_type": "code",
      "source": [
        "get_optimal_threshold('object_detection/output_csv/csvfile.csv')\n",
        "get_misclassification('object_detection/output_csv/csvfile.csv', '20')\n",
        "plot_classification_by_hour('object_detection/output_csv/csvfile.csv')"
      ],
      "execution_count": 0,
      "outputs": []
    },
    {
      "metadata": {
        "id": "Bfz6-Wg47NWd",
        "colab_type": "code",
        "colab": {}
      },
      "cell_type": "code",
      "source": [
        "visualize_boxes('object_detection/input_imgs_subset_cam31/notblocked/2016-09-20 130608 cam31.png', \n",
        "                detection_graph, \n",
        "                0.3, \n",
        "                [(202,144),(213,145),(351,221),(350,240)])"
      ],
      "execution_count": 0,
      "outputs": []
    },
    {
      "metadata": {
        "id": "LXs-TcGsNPfF",
        "colab_type": "code",
        "outputId": "97f2ce65-9eb6-406c-c73f-2cd3fa7a853c",
        "colab": {
          "base_uri": "https://localhost:8080/",
          "height": 132
        }
      },
      "cell_type": "code",
      "source": [
        "val = \n",
        "[[(202,144),(213,145),(351,221),(350,240)], 'cam31']\n",
        "[[(158,278),(126,272),(302,115),(310,116)] , 'cam135']\n",
        "[[(220,140),(241,143),(299,53),(291,52)], 'cam68']"
      ],
      "execution_count": 0,
      "outputs": [
        {
          "output_type": "error",
          "ename": "SyntaxError",
          "evalue": "ignored",
          "traceback": [
            "\u001b[0;36m  File \u001b[0;32m\"<ipython-input-3-7b7587471665>\"\u001b[0;36m, line \u001b[0;32m1\u001b[0m\n\u001b[0;31m    val =\u001b[0m\n\u001b[0m          ^\u001b[0m\n\u001b[0;31mSyntaxError\u001b[0m\u001b[0;31m:\u001b[0m invalid syntax\n"
          ]
        }
      ]
    },
    {
      "metadata": {
        "id": "ekWEqlSYeaIH",
        "colab_type": "code",
        "outputId": "62971a28-377d-4118-a1ba-96dfc27adea5",
        "colab": {
          "base_uri": "https://localhost:8080/",
          "height": 167
        }
      },
      "cell_type": "code",
      "source": [
        "val[1]"
      ],
      "execution_count": 0,
      "outputs": [
        {
          "output_type": "error",
          "ename": "NameError",
          "evalue": "ignored",
          "traceback": [
            "\u001b[0;31m---------------------------------------------------------------------------\u001b[0m",
            "\u001b[0;31mNameError\u001b[0m                                 Traceback (most recent call last)",
            "\u001b[0;32m<ipython-input-4-84bbbf1c64cb>\u001b[0m in \u001b[0;36m<module>\u001b[0;34m()\u001b[0m\n\u001b[0;32m----> 1\u001b[0;31m \u001b[0mval\u001b[0m\u001b[0;34m[\u001b[0m\u001b[0;36m1\u001b[0m\u001b[0;34m]\u001b[0m\u001b[0;34m\u001b[0m\u001b[0;34m\u001b[0m\u001b[0m\n\u001b[0m",
            "\u001b[0;31mNameError\u001b[0m: name 'val' is not defined"
          ]
        }
      ]
    }
  ]
}