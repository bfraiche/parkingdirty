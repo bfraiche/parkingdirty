{
  "nbformat": 4,
  "nbformat_minor": 0,
  "metadata": {
    "colab": {
      "name": "image_classification.ipynb",
      "version": "0.3.2",
      "provenance": [],
      "collapsed_sections": [],
      "toc_visible": true,
      "include_colab_link": true
    },
    "kernelspec": {
      "name": "python3",
      "display_name": "Python 3"
    },
    "accelerator": "GPU"
  },
  "cells": [
    {
      "cell_type": "markdown",
      "metadata": {
        "id": "view-in-github",
        "colab_type": "text"
      },
      "source": [
        "<a href=\"https://colab.research.google.com/github/danbernstein/parkingdirty/blob/master/image_classification/py/image_classification.ipynb\" target=\"_parent\"><img src=\"https://colab.research.google.com/assets/colab-badge.svg\" alt=\"Open In Colab\"/></a>"
      ]
    },
    {
      "metadata": {
        "id": "TOIq5h8H5qWo",
        "colab_type": "text"
      },
      "cell_type": "markdown",
      "source": [
        "## Initiate Co-Lab GPU\n"
      ]
    },
    {
      "metadata": {
        "id": "LfoPx90U5BXS",
        "colab_type": "code",
        "outputId": "13c17591-958c-4741-d241-567f6172c4ad",
        "colab": {
          "base_uri": "https://localhost:8080/",
          "height": 35
        }
      },
      "cell_type": "code",
      "source": [
        "# Confirm TensorFlow can see the GPU\n",
        "# Select \"GPU\" in the Accelerator drop-down in Notebook Settings (either through the Edit menu or the command palette at cmd/ctrl-shift-P).\n",
        "import tensorflow as tf # for running on tensorflow\n",
        "device_name = tf.test.gpu_device_name()\n",
        "if device_name != '/device:GPU:0':\n",
        "  raise SystemError('GPU device not found')\n",
        "print('Found GPU at: {}'.format(device_name))"
      ],
      "execution_count": 0,
      "outputs": [
        {
          "output_type": "stream",
          "text": [
            "Found GPU at: /device:GPU:0\n"
          ],
          "name": "stdout"
        }
      ]
    },
    {
      "metadata": {
        "id": "pNqVlnN_5xCo",
        "colab_type": "text"
      },
      "cell_type": "markdown",
      "source": [
        "# Import Modules"
      ]
    },
    {
      "metadata": {
        "id": "27HAAmFuVadH",
        "colab_type": "code",
        "outputId": "861e8ae2-5be9-4717-d8ea-1b8323d95f42",
        "colab": {
          "base_uri": "https://localhost:8080/",
          "height": 35
        }
      },
      "cell_type": "code",
      "source": [
        "# load modules\n",
        "import os # for accessing project file structure\n",
        "import requests # for downloading and loading data from the internet\n",
        "import zipfile # for unzipping zip files \n",
        "\n",
        "import numpy.random \n",
        "from matplotlib import pyplot # for plotting results\n",
        "\n",
        "# build CNN using tf.keras\n",
        "from keras import models # for building CNN (deep learning)\n",
        "from keras import layers # for building fully connected network\n",
        "from keras import losses\n",
        "from keras import optimizers"
      ],
      "execution_count": 0,
      "outputs": [
        {
          "output_type": "stream",
          "text": [
            "Using TensorFlow backend.\n"
          ],
          "name": "stderr"
        }
      ]
    },
    {
      "metadata": {
        "id": "UDJXBZJoS5Yd",
        "colab_type": "text"
      },
      "cell_type": "markdown",
      "source": [
        "# Data Set-Up"
      ]
    },
    {
      "metadata": {
        "id": "k4opUv4h50Xy",
        "colab_type": "text"
      },
      "cell_type": "markdown",
      "source": [
        "## Download and Extract Data"
      ]
    },
    {
      "metadata": {
        "id": "NGppCGvdVFuA",
        "colab_type": "code",
        "colab": {}
      },
      "cell_type": "code",
      "source": [
        "# download and read in data\n",
        "zip_address = 'http://parkingdirty.com/BlockedBikeLaneTrainingSingleCam.zip'\n",
        "\n",
        "import requests, zipfile, io\n",
        "r = requests.get(zip_address)\n",
        "z = zipfile.ZipFile(io.BytesIO(r.content))\n",
        "z.extractall() "
      ],
      "execution_count": 0,
      "outputs": []
    },
    {
      "metadata": {
        "id": "Hdmp-R0RPY1t",
        "colab_type": "code",
        "colab": {}
      },
      "cell_type": "code",
      "source": [
        "import os\n",
        "\n",
        "def list_files(startpath):\n",
        "    for root, dirs, files in os.walk(startpath):\n",
        "        level = root.replace(startpath, '').count(os.sep)\n",
        "        indent = ' ' * 4 * (level)\n",
        "        print('{}{}/'.format(indent, os.path.basename(root)))\n",
        "        subindent = ' ' * 4 * (level + 1)\n",
        "        for f in files:\n",
        "            print('{}{}'.format(subindent, f))"
      ],
      "execution_count": 0,
      "outputs": []
    },
    {
      "metadata": {
        "id": "JUkompyDPrAV",
        "colab_type": "code",
        "colab": {}
      },
      "cell_type": "code",
      "source": [
        "list_files(zip_address)"
      ],
      "execution_count": 0,
      "outputs": []
    },
    {
      "metadata": {
        "id": "7CH2Oby663Ax",
        "colab_type": "text"
      },
      "cell_type": "markdown",
      "source": [
        "## Data Processing (Organizing, Labeling, and Splitting)"
      ]
    },
    {
      "metadata": {
        "id": "pEycEcXLZZTQ",
        "colab_type": "code",
        "outputId": "a180d983-2887-455b-eb82-98e4fd9349d8",
        "colab": {
          "base_uri": "https://localhost:8080/",
          "height": 72
        }
      },
      "cell_type": "code",
      "source": [
        "# append the label at front, and assign to object\n",
        "imgs_blocked = list(map('blocked/{0}'.format, os.listdir('blocked')))\n",
        "imgs_notblocked = list(map('notblocked/{0}'.format, os.listdir('notblocked')))\n",
        "\n",
        "# shuffle data\n",
        "numpy.random.shuffle(imgs_blocked)\n",
        "numpy.random.shuffle(imgs_notblocked)\n",
        "\n",
        "print(\"number of blocked images: \", len(imgs_blocked))\n",
        "print(\"number of not blocked images: \", len(imgs_notblocked))\n",
        "print(\"ratio of classes: \", len(imgs_blocked)/len(imgs_notblocked))"
      ],
      "execution_count": 0,
      "outputs": [
        {
          "output_type": "stream",
          "text": [
            "number of blocked images:  2186\n",
            "number of not blocked images:  1656\n",
            "ratio of classes:  1.320048309178744\n"
          ],
          "name": "stdout"
        }
      ]
    },
    {
      "metadata": {
        "id": "7f5h89Bq6Lot",
        "colab_type": "code",
        "outputId": "cafadd9d-b55c-4ab7-eb2e-501924509d84",
        "colab": {
          "base_uri": "https://localhost:8080/",
          "height": 54
        }
      },
      "cell_type": "code",
      "source": [
        "# separate into training (contains training and validation), and test set\n",
        "training_set = imgs_blocked[:int(round(0.8*len(imgs_blocked)))] + imgs_notblocked[:int(round(0.8*len(imgs_notblocked)))]\n",
        "print(len(training_set))\n",
        "\n",
        "test_set = imgs_blocked[int(round(0.8*len(imgs_blocked))):] + imgs_notblocked[int(round(0.8*len(imgs_notblocked))):]\n",
        "print(len(test_set))\n",
        "\n",
        "del imgs_blocked\n",
        "del imgs_notblocked"
      ],
      "execution_count": 0,
      "outputs": [
        {
          "output_type": "stream",
          "text": [
            "3074\n",
            "768\n"
          ],
          "name": "stdout"
        }
      ]
    },
    {
      "metadata": {
        "id": "A2u1DLB_6-5m",
        "colab_type": "text"
      },
      "cell_type": "markdown",
      "source": [
        "## Image Processing and Resizing"
      ]
    },
    {
      "metadata": {
        "id": "jLq8bn5WbTbU",
        "colab_type": "code",
        "colab": {}
      },
      "cell_type": "code",
      "source": [
        "# read and resize images, also store as X, Y with X as image array and Y as label\n",
        "import cv2\n",
        "\n",
        "img_arrays = [] # images\n",
        "img_labels = [] # labels\n",
        "\n",
        "def read_resize_label_image(img, x_dim, y_dim):\n",
        "    \n",
        "  img_orig = cv2.imread(img)\n",
        " # img_orig = cv2.cvtColor(img_orig, cv2.COLOR_RGB2HSV)\n",
        "  img_arrays = cv2.resize(img_orig, dsize=(x_dim, y_dim), interpolation=cv2.INTER_CUBIC)\n",
        "  \n",
        " # if the image file name contains \"not\" then assigned 0, otherwise 1, so 1 is blocked, 0 is notblocked\n",
        "  if img.find(\"not\") is not -1:\n",
        "      img_labels = 0\n",
        "  else:\n",
        "      img_labels = 1\n",
        "      \n",
        "  del img_orig\n",
        "   \n",
        "    \n",
        "  return img_arrays, img_labels\n"
      ],
      "execution_count": 0,
      "outputs": []
    },
    {
      "metadata": {
        "id": "kVZjfNqH7Epo",
        "colab_type": "code",
        "colab": {}
      },
      "cell_type": "code",
      "source": [
        "training_arrays, training_labels = zip(*[(read_resize_label_image(i, 300, 300)) for i in training_set])\n",
        "\n",
        "del training_set"
      ],
      "execution_count": 0,
      "outputs": []
    },
    {
      "metadata": {
        "id": "9SsThnhD9Sg5",
        "colab_type": "code",
        "colab": {}
      },
      "cell_type": "code",
      "source": [
        "test_arrays, test_labels = zip(*[(read_resize_label_image(i, 300, 300)) for i in test_set])\n",
        "\n",
        "del test_set"
      ],
      "execution_count": 0,
      "outputs": []
    },
    {
      "metadata": {
        "id": "VzJgWOcnkhu3",
        "colab_type": "code",
        "outputId": "877911a0-71a7-4e96-96f8-af395b5e03bd",
        "colab": {
          "base_uri": "https://localhost:8080/",
          "height": 126
        }
      },
      "cell_type": "code",
      "source": [
        "import pandas\n",
        "print(\"training: \", pandas.Series(training_labels).value_counts())\n",
        "print(\"test: \", pandas.Series(test_labels).value_counts())\n"
      ],
      "execution_count": 0,
      "outputs": [
        {
          "output_type": "stream",
          "text": [
            "training:  1    1749\n",
            "0    1325\n",
            "dtype: int64\n",
            "test:  1    437\n",
            "0    331\n",
            "dtype: int64\n"
          ],
          "name": "stdout"
        }
      ]
    },
    {
      "metadata": {
        "id": "lwTzOuVb5n6M",
        "colab_type": "text"
      },
      "cell_type": "markdown",
      "source": [
        "## **Very Crucial Step: Converting X and Y to arrays**"
      ]
    },
    {
      "metadata": {
        "id": "eYFn8GozHt0I",
        "colab_type": "code",
        "outputId": "b3027d2a-5363-475d-a749-52d8285a36aa",
        "colab": {
          "base_uri": "https://localhost:8080/",
          "height": 244
        }
      },
      "cell_type": "code",
      "source": [
        "import numpy as np\n",
        "\n",
        "X_train_array = np.array(training_arrays)\n",
        "Y_train_labels = np.array(training_labels)\n",
        "\n",
        "del training_arrays\n",
        "del training_labels\n",
        "\n",
        "X_test_array = np.array(test_arrays)\n",
        "Y_test_labels = np.array(test_labels)\n",
        "\n",
        "del test_arrays\n",
        "del test_labels"
      ],
      "execution_count": 0,
      "outputs": [
        {
          "output_type": "error",
          "ename": "NameError",
          "evalue": "ignored",
          "traceback": [
            "\u001b[0;31m---------------------------------------------------------------------------\u001b[0m",
            "\u001b[0;31mNameError\u001b[0m                                 Traceback (most recent call last)",
            "\u001b[0;32m<ipython-input-15-42e0f7652033>\u001b[0m in \u001b[0;36m<module>\u001b[0;34m()\u001b[0m\n\u001b[1;32m      1\u001b[0m \u001b[0;32mimport\u001b[0m \u001b[0mnumpy\u001b[0m \u001b[0;32mas\u001b[0m \u001b[0mnp\u001b[0m\u001b[0;34m\u001b[0m\u001b[0;34m\u001b[0m\u001b[0m\n\u001b[1;32m      2\u001b[0m \u001b[0;34m\u001b[0m\u001b[0m\n\u001b[0;32m----> 3\u001b[0;31m \u001b[0mX_train_array\u001b[0m \u001b[0;34m=\u001b[0m \u001b[0mnp\u001b[0m\u001b[0;34m.\u001b[0m\u001b[0marray\u001b[0m\u001b[0;34m(\u001b[0m\u001b[0mtraining_arrays\u001b[0m\u001b[0;34m)\u001b[0m\u001b[0;34m\u001b[0m\u001b[0;34m\u001b[0m\u001b[0m\n\u001b[0m\u001b[1;32m      4\u001b[0m \u001b[0mY_train_labels\u001b[0m \u001b[0;34m=\u001b[0m \u001b[0mnp\u001b[0m\u001b[0;34m.\u001b[0m\u001b[0marray\u001b[0m\u001b[0;34m(\u001b[0m\u001b[0mtraining_labels\u001b[0m\u001b[0;34m)\u001b[0m\u001b[0;34m\u001b[0m\u001b[0;34m\u001b[0m\u001b[0m\n\u001b[1;32m      5\u001b[0m \u001b[0;34m\u001b[0m\u001b[0m\n",
            "\u001b[0;31mNameError\u001b[0m: name 'training_arrays' is not defined"
          ]
        }
      ]
    },
    {
      "metadata": {
        "id": "VQdp0m9R7MoG",
        "colab_type": "text"
      },
      "cell_type": "markdown",
      "source": [
        "## Create Validation Set"
      ]
    },
    {
      "metadata": {
        "id": "ypC5c3VAVNfZ",
        "colab_type": "code",
        "outputId": "94be72c1-00f7-4968-a791-aa007420d836",
        "colab": {
          "base_uri": "https://localhost:8080/",
          "height": 90
        }
      },
      "cell_type": "code",
      "source": [
        "# separate training data into training and validation sets\n",
        "\n",
        "from sklearn.model_selection import train_test_split\n",
        "\n",
        "X_train, X_test, Y_train, Y_test = train_test_split(X_train_array, Y_train_labels, test_size = 0.2, \n",
        "                                                   shuffle = True)\n",
        "\n",
        "# confirm the size of the datasets\n",
        "print(\"training images: \", len(X_train))\n",
        "print(\"training labels: \", len(Y_train))\n",
        "print(\"validation images: \", len(X_test))\n",
        "print(\"validation labels: \", len(Y_test))"
      ],
      "execution_count": 0,
      "outputs": [
        {
          "output_type": "stream",
          "text": [
            "training images:  2459\n",
            "training labels:  2459\n",
            "validation images:  615\n",
            "validation labels:  615\n"
          ],
          "name": "stdout"
        }
      ]
    },
    {
      "metadata": {
        "id": "Nyp_xMzVASKO",
        "colab_type": "text"
      },
      "cell_type": "markdown",
      "source": [
        "#  Basic Model"
      ]
    },
    {
      "metadata": {
        "id": "b6BXO35vzhwn",
        "colab_type": "code",
        "outputId": "0c6da7e7-91e1-4d20-d28c-c54505cbf63f",
        "colab": {
          "base_uri": "https://localhost:8080/",
          "height": 126
        }
      },
      "cell_type": "code",
      "source": [
        "print(\"training: \", pandas.Series(Y_train).value_counts(1))\n",
        "print(\"test: \", pandas.Series(Y_test).value_counts(1))"
      ],
      "execution_count": 0,
      "outputs": [
        {
          "output_type": "stream",
          "text": [
            "training:  1    0.568117\n",
            "0    0.431883\n",
            "dtype: float64\n",
            "test:  1    0.572358\n",
            "0    0.427642\n",
            "dtype: float64\n"
          ],
          "name": "stdout"
        }
      ]
    },
    {
      "metadata": {
        "id": "X1GjGLJCJE6l",
        "colab_type": "code",
        "colab": {}
      },
      "cell_type": "code",
      "source": [
        "from keras import preprocessing\n",
        "\n",
        "train_datagen_basic = preprocessing.image.ImageDataGenerator(\n",
        "                                    rescale=1./255   #Scale the image between 0 and 1\n",
        "                                    )\n",
        "\n",
        "val_datagen_basic = preprocessing.image.ImageDataGenerator(rescale=1./255)  #We do not augment validation data. we only perform rescale"
      ],
      "execution_count": 0,
      "outputs": []
    },
    {
      "metadata": {
        "id": "zHvrPm7hJJ5_",
        "colab_type": "code",
        "colab": {}
      },
      "cell_type": "code",
      "source": [
        "#Create the image generators\n",
        "train_generator_basic = train_datagen_basic.flow(X_train, Y_train, batch_size=64)\n",
        "\n",
        "val_generator_basic = val_datagen_basic.flow(X_test, Y_test, batch_size=64)"
      ],
      "execution_count": 0,
      "outputs": []
    },
    {
      "metadata": {
        "id": "bGyN0gAC_bRD",
        "colab_type": "code",
        "outputId": "40c28e2d-61d4-4507-9270-48bb2f84c097",
        "colab": {
          "base_uri": "https://localhost:8080/",
          "height": 92
        }
      },
      "cell_type": "code",
      "source": [
        "# basic model \n",
        "model = models.Sequential()\n",
        "model.add(layers.Conv2D(32, (3, 3), activation='relu',input_shape=(300, 300, 3)))\n",
        "model.add(layers.MaxPooling2D((2, 2)))\n",
        "model.add(layers.Conv2D(64, (3, 3), activation='relu'))\n",
        "model.add(layers.MaxPooling2D((2, 2)))\n",
        "model.add(layers.Conv2D(128, (3, 3), activation='relu'))\n",
        "model.add(layers.MaxPooling2D((2, 2)))\n",
        "model.add(layers.Conv2D(128, (3, 3), activation='relu'))\n",
        "model.add(layers.MaxPooling2D((2, 2)))\n",
        "model.add(layers.Flatten())\n",
        "model.add(layers.Dense(128, activation='relu'))\n",
        "model.add(layers.Dense(1, activation='sigmoid'))  #Sigmoid function at the end because we have just two classes\n",
        "\n",
        "## Compiler Includes Optimizer, and Learning Rate (LR), and Metrics\n",
        "\n",
        "model.compile(loss='binary_crossentropy', optimizer=optimizers.RMSprop(lr=1e-4), metrics=['acc'])"
      ],
      "execution_count": 0,
      "outputs": [
        {
          "output_type": "stream",
          "text": [
            "WARNING:tensorflow:From /usr/local/lib/python3.6/dist-packages/tensorflow/python/framework/op_def_library.py:263: colocate_with (from tensorflow.python.framework.ops) is deprecated and will be removed in a future version.\n",
            "Instructions for updating:\n",
            "Colocations handled automatically by placer.\n"
          ],
          "name": "stdout"
        }
      ]
    },
    {
      "metadata": {
        "id": "nAklXbDqEFm8",
        "colab_type": "code",
        "outputId": "41d23b9d-0393-4591-95cd-3c508b618b98",
        "colab": {
          "base_uri": "https://localhost:8080/",
          "height": 545
        }
      },
      "cell_type": "code",
      "source": [
        "model.summary()"
      ],
      "execution_count": 0,
      "outputs": [
        {
          "output_type": "stream",
          "text": [
            "_________________________________________________________________\n",
            "Layer (type)                 Output Shape              Param #   \n",
            "=================================================================\n",
            "conv2d_1 (Conv2D)            (None, 298, 298, 32)      896       \n",
            "_________________________________________________________________\n",
            "max_pooling2d_1 (MaxPooling2 (None, 149, 149, 32)      0         \n",
            "_________________________________________________________________\n",
            "conv2d_2 (Conv2D)            (None, 147, 147, 64)      18496     \n",
            "_________________________________________________________________\n",
            "max_pooling2d_2 (MaxPooling2 (None, 73, 73, 64)        0         \n",
            "_________________________________________________________________\n",
            "conv2d_3 (Conv2D)            (None, 71, 71, 128)       73856     \n",
            "_________________________________________________________________\n",
            "max_pooling2d_3 (MaxPooling2 (None, 35, 35, 128)       0         \n",
            "_________________________________________________________________\n",
            "conv2d_4 (Conv2D)            (None, 33, 33, 128)       147584    \n",
            "_________________________________________________________________\n",
            "max_pooling2d_4 (MaxPooling2 (None, 16, 16, 128)       0         \n",
            "_________________________________________________________________\n",
            "flatten_1 (Flatten)          (None, 32768)             0         \n",
            "_________________________________________________________________\n",
            "dense_1 (Dense)              (None, 128)               4194432   \n",
            "_________________________________________________________________\n",
            "dense_2 (Dense)              (None, 1)                 129       \n",
            "=================================================================\n",
            "Total params: 4,435,393\n",
            "Trainable params: 4,435,393\n",
            "Non-trainable params: 0\n",
            "_________________________________________________________________\n"
          ],
          "name": "stdout"
        }
      ]
    },
    {
      "metadata": {
        "id": "e0TBYqLWAJG9",
        "colab_type": "text"
      },
      "cell_type": "markdown",
      "source": [
        "## Run the Basic Model"
      ]
    },
    {
      "metadata": {
        "id": "-_zCPAK2ogV5",
        "colab_type": "code",
        "outputId": "33e0546a-7bf6-4bd2-fe57-30e398ca6018",
        "colab": {
          "base_uri": "https://localhost:8080/",
          "height": 819
        }
      },
      "cell_type": "code",
      "source": [
        "batch_size = 64\n",
        "epochs = 20\n",
        "\n",
        "history_basic = model.fit_generator(train_datagen_basic.flow(X_train, Y_train, batch_size=64),\n",
        "                                    validation_data = val_datagen_basic.flow(X_test, Y_test, batch_size=64),\n",
        "                                    steps_per_epoch = X_train.shape[0] // batch_size,\n",
        "                                    validation_steps = X_test.shape[0] // batch_size,\n",
        "                                    epochs = epochs)"
      ],
      "execution_count": 0,
      "outputs": [
        {
          "output_type": "stream",
          "text": [
            "WARNING:tensorflow:From /usr/local/lib/python3.6/dist-packages/tensorflow/python/ops/math_ops.py:3066: to_int32 (from tensorflow.python.ops.math_ops) is deprecated and will be removed in a future version.\n",
            "Instructions for updating:\n",
            "Use tf.cast instead.\n",
            "Epoch 1/20\n",
            "38/38 [==============================] - 22s 580ms/step - loss: 0.6703 - acc: 0.5966 - val_loss: 0.6371 - val_acc: 0.6649\n",
            "Epoch 2/20\n",
            "38/38 [==============================] - 16s 428ms/step - loss: 0.5900 - acc: 0.7075 - val_loss: 0.6135 - val_acc: 0.6697\n",
            "Epoch 3/20\n",
            "38/38 [==============================] - 14s 381ms/step - loss: 0.5242 - acc: 0.7541 - val_loss: 0.5902 - val_acc: 0.6878\n",
            "Epoch 4/20\n",
            "38/38 [==============================] - 15s 382ms/step - loss: 0.4766 - acc: 0.7802 - val_loss: 0.5539 - val_acc: 0.7368\n",
            "Epoch 5/20\n",
            "38/38 [==============================] - 14s 380ms/step - loss: 0.4391 - acc: 0.7940 - val_loss: 0.4856 - val_acc: 0.7568\n",
            "Epoch 6/20\n",
            "38/38 [==============================] - 15s 383ms/step - loss: 0.4093 - acc: 0.8267 - val_loss: 0.5141 - val_acc: 0.7877\n",
            "Epoch 7/20\n",
            "38/38 [==============================] - 14s 381ms/step - loss: 0.3834 - acc: 0.8345 - val_loss: 0.4712 - val_acc: 0.7677\n",
            "Epoch 8/20\n",
            "38/38 [==============================] - 14s 381ms/step - loss: 0.3674 - acc: 0.8414 - val_loss: 0.5039 - val_acc: 0.7659\n",
            "Epoch 9/20\n",
            "38/38 [==============================] - 14s 381ms/step - loss: 0.3379 - acc: 0.8537 - val_loss: 0.5186 - val_acc: 0.7604\n",
            "Epoch 10/20\n",
            "38/38 [==============================] - 15s 382ms/step - loss: 0.3321 - acc: 0.8575 - val_loss: 0.4763 - val_acc: 0.7822\n",
            "Epoch 11/20\n",
            "38/38 [==============================] - 15s 383ms/step - loss: 0.2950 - acc: 0.8747 - val_loss: 0.4308 - val_acc: 0.8160\n",
            "Epoch 12/20\n",
            "38/38 [==============================] - 14s 381ms/step - loss: 0.3042 - acc: 0.8655 - val_loss: 0.5864 - val_acc: 0.7314\n",
            "Epoch 13/20\n",
            "38/38 [==============================] - 15s 382ms/step - loss: 0.2807 - acc: 0.8880 - val_loss: 0.4235 - val_acc: 0.8149\n",
            "Epoch 14/20\n",
            "38/38 [==============================] - 15s 383ms/step - loss: 0.2624 - acc: 0.8932 - val_loss: 0.4239 - val_acc: 0.8149\n",
            "Epoch 15/20\n",
            "38/38 [==============================] - 15s 383ms/step - loss: 0.2788 - acc: 0.8863 - val_loss: 0.4077 - val_acc: 0.8203\n",
            "Epoch 16/20\n",
            "38/38 [==============================] - 15s 382ms/step - loss: 0.2463 - acc: 0.8966 - val_loss: 0.3950 - val_acc: 0.8113\n",
            "Epoch 17/20\n",
            "38/38 [==============================] - 14s 381ms/step - loss: 0.2279 - acc: 0.9054 - val_loss: 0.3098 - val_acc: 0.8748\n",
            "Epoch 18/20\n",
            "38/38 [==============================] - 15s 388ms/step - loss: 0.2318 - acc: 0.9062 - val_loss: 0.3440 - val_acc: 0.8584\n",
            "Epoch 19/20\n",
            "38/38 [==============================] - 15s 384ms/step - loss: 0.2249 - acc: 0.9127 - val_loss: 0.3184 - val_acc: 0.8748\n",
            "Epoch 20/20\n",
            "38/38 [==============================] - 15s 382ms/step - loss: 0.1999 - acc: 0.9192 - val_loss: 0.3425 - val_acc: 0.8693\n"
          ],
          "name": "stdout"
        }
      ]
    },
    {
      "metadata": {
        "id": "36p4W3qh7_cW",
        "colab_type": "code",
        "colab": {}
      },
      "cell_type": "code",
      "source": [
        "#history_basic.__dict__"
      ],
      "execution_count": 0,
      "outputs": []
    },
    {
      "metadata": {
        "id": "naSR9Ouj7n1B",
        "colab_type": "text"
      },
      "cell_type": "markdown",
      "source": [
        "## Model Diagnostics"
      ]
    },
    {
      "metadata": {
        "id": "QFaAosPw57Ay",
        "colab_type": "code",
        "outputId": "509fdf7e-244f-473e-b388-7c325f5634c9",
        "colab": {
          "base_uri": "https://localhost:8080/",
          "height": 772
        }
      },
      "cell_type": "code",
      "source": [
        "# evaluate model performance\n",
        "\n",
        "score_basic = model.evaluate(X_test_array, Y_test_labels, verbose=0)\n",
        "print('Test loss:', score_basic[0])\n",
        "print('Test accuracy:', score_basic[1])\n",
        "\n",
        "pyplot.plot(history_basic.history['acc'])\n",
        "pyplot.plot(history_basic.history['val_acc'])\n",
        "#pyplot.plot(history_basic.history['test_acc'])\n",
        "pyplot.title('model accuracy')\n",
        "pyplot.ylabel('accuracy')\n",
        "pyplot.xlabel('epoch')\n",
        "pyplot.legend(['train', 'test'], loc='upper left')\n",
        "pyplot.savefig('./plot_acc' + \".jpg\")\n",
        "pyplot.show()\n",
        "\n",
        "\n",
        "# there is a large gap (0.18) btw training and validation accuracy, so it is probably overfitting the training data\n",
        "\n",
        "\n",
        "pyplot.plot(history_basic.history['loss'])\n",
        "pyplot.plot(history_basic.history['val_loss'])\n",
        "#pyplot.plot(history_basic.history['test_acc'])\n",
        "pyplot.title('model loss')\n",
        "pyplot.ylabel('loss')\n",
        "pyplot.xlabel('epoch')\n",
        "pyplot.legend(['train', 'test'], loc='upper left')\n",
        "pyplot.savefig('./plot_loss' + \".jpg\")\n",
        "pyplot.show()\n",
        "\n"
      ],
      "execution_count": 0,
      "outputs": [
        {
          "output_type": "stream",
          "text": [
            "Test loss: 2.099729667107264\n",
            "Test accuracy: 0.8671875\n"
          ],
          "name": "stdout"
        },
        {
          "output_type": "display_data",
          "data": {
            "image/png": "[encoded data removed]",
            "text/plain": [
              "<Figure size 576x396 with 1 Axes>"
            ]
          },
          "metadata": {
            "tags": []
          }
        },
        {
          "output_type": "display_data",
          "data": {
            "image/png": "[encoded data removed]",
            "text/plain": [
              "<Figure size 576x396 with 1 Axes>"
            ]
          },
          "metadata": {
            "tags": []
          }
        }
      ]
    }
  ]
}