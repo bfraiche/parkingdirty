{
  "nbformat": 4,
  "nbformat_minor": 0,
  "metadata": {
    "colab": {
      "name": "execute_object_detection_video.ipynb",
      "version": "0.3.2",
      "provenance": [],
      "collapsed_sections": [],
      "include_colab_link": true
    },
    "kernelspec": {
      "name": "python3",
      "display_name": "Python 3"
    }
  },
  "cells": [
    {
      "cell_type": "markdown",
      "metadata": {
        "id": "view-in-github",
        "colab_type": "text"
      },
      "source": [
        "<a href=\"https://colab.research.google.com/github/danbernstein/parkingdirty/blob/master/execute_object_detection_video.ipynb\" target=\"_parent\"><img src=\"https://colab.research.google.com/assets/colab-badge.svg\" alt=\"Open In Colab\"/></a>"
      ]
    },
    {
      "metadata": {
        "id": "nRm7FPDnyujg",
        "colab_type": "code",
        "outputId": "f37a0095-13f0-42c3-d6a5-a9904f9213c5",
        "colab": {
          "base_uri": "https://localhost:8080/",
          "height": 33
        }
      },
      "cell_type": "code",
      "source": [
        "#!git clone https://github.com/tensorflow/models.git\n",
        "#!apt-get -qq install libprotobuf-java protobuf-compiler\n",
        "#!protoc ./models/research/object_detection/protos/string_int_label_map.proto --python_out=.\n",
        "#!cp -R models/research/object_detection/ object_detection/\n",
        "#!rm -rf models\n",
        "#!pip install shapely\n",
        "#!pip install pascal-voc-writer\n",
        "\n",
        "!git clone https://github.com/danbernstein/parkingdirty.git "
      ],
      "execution_count": 66,
      "outputs": [
        {
          "output_type": "stream",
          "text": [
            "fatal: destination path 'parkingdirty' already exists and is not an empty directory.\n"
          ],
          "name": "stdout"
        }
      ]
    },
    {
      "metadata": {
        "id": "y-fNSUJb2Yo7",
        "colab_type": "code",
        "colab": {}
      },
      "cell_type": "code",
      "source": [
        "#shutil.rmtree('parkingdirty')"
      ],
      "execution_count": 0,
      "outputs": []
    },
    {
      "metadata": {
        "id": "v_E8hSbRzAb0",
        "colab_type": "code",
        "outputId": "16a591be-61da-460a-ef2c-ae3c25ca4487",
        "colab": {
          "base_uri": "https://localhost:8080/",
          "height": 893
        }
      },
      "cell_type": "code",
      "source": [
        "#exec(open(\"parkingdirty/object_detection_functions.py\").read())\n",
        "#exec(open(\"parkingdirty/object_detection_video_functions.py\").read())\n",
        "\n",
        "#download_data()\n",
        "# set up the model\n",
        "detection_graph, label_map, categories, category_index = set_up_model('ssd_mobilenet_v1_coco_2018_01_28')\n",
        "\n",
        "#image_tensor, detection_boxes, detection_scores, detection_classes, num_detections = set_up_detection(sess, detection_graph)\n",
        "\n",
        "# run the detection and classification processing\n",
        "# args: detection_graph from set_up_model(), the input dir, output dir, threshold for obstacle detection, and number of images to process\n",
        "process_video('out-2.avi', detection_graph, 0.4, [[62,470],[312,162],[294,162],[18.438,13.473]])"
      ],
      "execution_count": 68,
      "outputs": [
        {
          "output_type": "stream",
          "text": [
            "/usr/local/lib/python3.6/dist-packages/ipykernel_launcher.py:1: DeprecationWarning: URLopener style of invoking requests is deprecated. Use newer urlopen functions/methods\n",
            "  \"\"\"Entry point for launching an IPython kernel.\n"
          ],
          "name": "stderr"
        },
        {
          "output_type": "stream",
          "text": [
            "model set up successfully\n",
            "out-2.avi successfully loaded\n",
            "starting processing\n",
            "1 1\n",
            "2 2\n",
            "3 3\n",
            "4 4\n",
            "5 5\n",
            "6 6\n",
            "7 7\n",
            "8 8\n",
            "9 9\n",
            "10 10\n",
            "11 11\n",
            "12 12\n",
            "13 13\n",
            "14 14\n",
            "15 15\n",
            "16 16\n",
            "17 17\n",
            "18 18\n",
            "19 19\n",
            "20 20\n",
            "21 21\n",
            "22 22\n",
            "23 23\n",
            "24 24\n",
            "25 25\n",
            "26 26\n",
            "27 27\n",
            "28 28\n",
            "29 29\n",
            "30 30\n",
            "31 31\n",
            "32 32\n",
            "33 33\n",
            "34 34\n",
            "35 35\n"
          ],
          "name": "stdout"
        },
        {
          "output_type": "error",
          "ename": "KeyboardInterrupt",
          "evalue": "ignored",
          "traceback": [
            "\u001b[0;31m---------------------------------------------------------------------------\u001b[0m",
            "\u001b[0;31mKeyboardInterrupt\u001b[0m                         Traceback (most recent call last)",
            "\u001b[0;32m<ipython-input-68-c841173ace22>\u001b[0m in \u001b[0;36m<module>\u001b[0;34m()\u001b[0m\n\u001b[1;32m      5\u001b[0m \u001b[0;31m# run the detection and classification processing\u001b[0m\u001b[0;34m\u001b[0m\u001b[0;34m\u001b[0m\u001b[0;34m\u001b[0m\u001b[0m\n\u001b[1;32m      6\u001b[0m \u001b[0;31m# args: detection_graph from set_up_model(), the input dir, output dir, threshold for obstacle detection, and number of images to process\u001b[0m\u001b[0;34m\u001b[0m\u001b[0;34m\u001b[0m\u001b[0;34m\u001b[0m\u001b[0m\n\u001b[0;32m----> 7\u001b[0;31m \u001b[0mprocess_video\u001b[0m\u001b[0;34m(\u001b[0m\u001b[0;34m'out-2.avi'\u001b[0m\u001b[0;34m,\u001b[0m \u001b[0mdetection_graph\u001b[0m\u001b[0;34m,\u001b[0m \u001b[0;36m0.4\u001b[0m\u001b[0;34m,\u001b[0m \u001b[0;34m[\u001b[0m\u001b[0;34m[\u001b[0m\u001b[0;36m62\u001b[0m\u001b[0;34m,\u001b[0m\u001b[0;36m470\u001b[0m\u001b[0;34m]\u001b[0m\u001b[0;34m,\u001b[0m\u001b[0;34m[\u001b[0m\u001b[0;36m312\u001b[0m\u001b[0;34m,\u001b[0m\u001b[0;36m162\u001b[0m\u001b[0;34m]\u001b[0m\u001b[0;34m,\u001b[0m\u001b[0;34m[\u001b[0m\u001b[0;36m294\u001b[0m\u001b[0;34m,\u001b[0m\u001b[0;36m162\u001b[0m\u001b[0;34m]\u001b[0m\u001b[0;34m,\u001b[0m\u001b[0;34m[\u001b[0m\u001b[0;36m18.438\u001b[0m\u001b[0;34m,\u001b[0m\u001b[0;36m13.473\u001b[0m\u001b[0;34m]\u001b[0m\u001b[0;34m]\u001b[0m\u001b[0;34m)\u001b[0m\u001b[0;34m\u001b[0m\u001b[0;34m\u001b[0m\u001b[0m\n\u001b[0m",
            "\u001b[0;32m<string>\u001b[0m in \u001b[0;36mprocess_video\u001b[0;34m(video_file, detection_graph, threshold, lane_poly)\u001b[0m\n",
            "\u001b[0;31mKeyboardInterrupt\u001b[0m: "
          ]
        }
      ]
    }
  ]
}