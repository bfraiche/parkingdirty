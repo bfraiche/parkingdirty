{
  "nbformat": 4,
  "nbformat_minor": 0,
  "metadata": {
    "colab": {
      "name": "keras_visualize_heatmap.ipynb",
      "version": "0.3.2",
      "provenance": [],
      "collapsed_sections": [],
      "toc_visible": true,
      "include_colab_link": true
    },
    "kernelspec": {
      "name": "python3",
      "display_name": "Python 3"
    },
    "accelerator": "GPU"
  },
  "cells": [
    {
      "cell_type": "markdown",
      "metadata": {
        "id": "view-in-github",
        "colab_type": "text"
      },
      "source": [
        "<a href=\"https://colab.research.google.com/github/danbernstein/parkingdirty/blob/master/keras_visualize_heatmap.ipynb\" target=\"_parent\"><img src=\"https://colab.research.google.com/assets/colab-badge.svg\" alt=\"Open In Colab\"/></a>"
      ]
    },
    {
      "metadata": {
        "id": "pNqVlnN_5xCo",
        "colab_type": "text"
      },
      "cell_type": "markdown",
      "source": [
        "# Import Modules"
      ]
    },
    {
      "metadata": {
        "id": "27HAAmFuVadH",
        "colab_type": "code",
        "colab": {}
      },
      "cell_type": "code",
      "source": [
        "# load modules\n",
        "import os # for accessing project file structure\n",
        "import requests # for downloading and loading data from the internet\n",
        "import zipfile # for unzipping zip files \n",
        "\n",
        "import numpy.random \n",
        "from matplotlib import pyplot # for plotting results\n",
        "\n",
        "# build CNN using tf.keras\n",
        "from keras import models # for building CNN (deep learning)\n",
        "from keras import layers # for building fully connected network\n",
        "from keras import losses\n",
        "from keras import optimizers"
      ],
      "execution_count": 0,
      "outputs": []
    },
    {
      "metadata": {
        "id": "UDJXBZJoS5Yd",
        "colab_type": "text"
      },
      "cell_type": "markdown",
      "source": [
        "# Data Set-Up"
      ]
    },
    {
      "metadata": {
        "id": "Uu-uovKvxbrq",
        "colab_type": "text"
      },
      "cell_type": "markdown",
      "source": [
        "1) Define the problem at hand and the data you will be training on; collect this data or\n",
        "annotate it with labels if need be.\n",
        "\n",
        "**Define the problem:** the process of classifying whether a bikelane is blocked or not is currently manual and time-consuming. Accurately classifying traffic camera images of bikelanes could be accelerated through automatic methods.\n",
        "\n",
        "**What data is available:** traffic camera data from Arlington, VA county intersections with bikelanes, available at http://parkingdirty.com/ \n",
        "\n",
        "**Trying to predict:** binary classification of whether or not a bikelane is blocked in a given image.\n",
        "\n",
        "**Data labeling:** The need for more data labeling will be assessed at the end of the project by how well the deep learning model is able to classify the data. "
      ]
    },
    {
      "metadata": {
        "id": "frMjt8szyywP",
        "colab_type": "text"
      },
      "cell_type": "markdown",
      "source": [
        "2) Choose how you will measure success on your problem. Which metrics will you be\n",
        "monitoring on your validation data?\n",
        "\n",
        "I will be monitoring the binary classification accuracy on the validation data. However, I will have to monitor the ratio of the loss function between the training and validation data to avoid overfitting. "
      ]
    },
    {
      "metadata": {
        "id": "k4opUv4h50Xy",
        "colab_type": "text"
      },
      "cell_type": "markdown",
      "source": [
        "## Download and Extract Data"
      ]
    },
    {
      "metadata": {
        "id": "bmBzQ7ILEBJ6",
        "colab_type": "text"
      },
      "cell_type": "markdown",
      "source": [
        "The data is stored as a zip file online. There are numerous modules that allow you to connect to, download, and unzip zip files, however the below approach is the easiest one I have found."
      ]
    },
    {
      "metadata": {
        "id": "NGppCGvdVFuA",
        "colab_type": "code",
        "colab": {}
      },
      "cell_type": "code",
      "source": [
        "# download and read in data\n",
        "zip_address = 'http://parkingdirty.com/BlockedBikeLaneTrainingFull.zip'\n",
        "\n",
        "import requests, zipfile, io\n",
        "r = requests.get(zip_address)\n",
        "z = zipfile.ZipFile(io.BytesIO(r.content))\n",
        "z.extractall() "
      ],
      "execution_count": 0,
      "outputs": []
    },
    {
      "metadata": {
        "id": "C10yKEWJEFA7",
        "colab_type": "text"
      },
      "cell_type": "markdown",
      "source": [
        "The extracted data resides in multiple sub-directories. The two important ones are \"blocked\" and \"notblocked\", which contain images labeled as containing a blocked bikelane or not, respectively. \n"
      ]
    },
    {
      "metadata": {
        "id": "ipeCmth0EHiR",
        "colab_type": "text"
      },
      "cell_type": "markdown",
      "source": [
        "Next, I assign the two sub-directories to lists and add the label (\"blocked\" or \"notblocked\") to the file path. Then I shuffle the data so no sequential patterns continue once the data is split into training and test data."
      ]
    },
    {
      "metadata": {
        "id": "7CH2Oby663Ax",
        "colab_type": "text"
      },
      "cell_type": "markdown",
      "source": [
        "## Data Processing (Organizing, Labeling, and Splitting)"
      ]
    },
    {
      "metadata": {
        "id": "pEycEcXLZZTQ",
        "colab_type": "code",
        "outputId": "8b730928-b10a-43db-9120-a63aa9bb8c85",
        "colab": {
          "base_uri": "https://localhost:8080/",
          "height": 66
        }
      },
      "cell_type": "code",
      "source": [
        "# append the label at front, and assign to object\n",
        "imgs_blocked = list(map('blocked/{0}'.format, os.listdir('blocked')))\n",
        "imgs_notblocked = list(map('notblocked/{0}'.format, os.listdir('notblocked')))\n",
        "\n",
        "# shuffle data\n",
        "numpy.random.shuffle(imgs_blocked)\n",
        "numpy.random.shuffle(imgs_notblocked)\n",
        "\n",
        "print(\"number of blocked images: \", len(imgs_blocked))\n",
        "print(\"number of not blocked images: \", len(imgs_notblocked))\n",
        "print(\"ratio of classes: \", len(imgs_blocked)/len(imgs_notblocked))"
      ],
      "execution_count": 0,
      "outputs": [
        {
          "output_type": "stream",
          "text": [
            "number of blocked images:  4131\n",
            "number of not blocked images:  3542\n",
            "ratio of classes:  1.166290231507623\n"
          ],
          "name": "stdout"
        }
      ]
    },
    {
      "metadata": {
        "id": "cDPRVFP8ISA2",
        "colab_type": "code",
        "outputId": "0e8c7ce3-3794-4272-e52c-7844f0405b5b",
        "colab": {
          "base_uri": "https://localhost:8080/",
          "height": 33
        }
      },
      "cell_type": "code",
      "source": [
        "# check that there are no duplicates between the two datasets\n",
        "all_imgs = imgs_blocked + imgs_notblocked \n",
        "\n",
        "set([x for x in all_imgs if all_imgs.count(x) > 1])\n"
      ],
      "execution_count": 0,
      "outputs": [
        {
          "output_type": "execute_result",
          "data": {
            "text/plain": [
              "set()"
            ]
          },
          "metadata": {
            "tags": []
          },
          "execution_count": 8
        }
      ]
    },
    {
      "metadata": {
        "id": "rryc36guEKSK",
        "colab_type": "text"
      },
      "cell_type": "markdown",
      "source": [
        "Next I take 80% of both the blocked and not blocked images and assign them to a training dataset, while the other 20% is assigned to test model outputs.\n"
      ]
    },
    {
      "metadata": {
        "id": "7f5h89Bq6Lot",
        "colab_type": "code",
        "outputId": "5ca9e190-304b-4876-faa5-8913ed0a0bb3",
        "colab": {
          "base_uri": "https://localhost:8080/",
          "height": 50
        }
      },
      "cell_type": "code",
      "source": [
        "# separate into training (contains training and validation), and test set\n",
        "training_set = imgs_blocked[:int(round(0.8*len(imgs_blocked)))] + imgs_notblocked[:int(round(0.8*len(imgs_notblocked)))]\n",
        "print(len(training_set))\n",
        "\n",
        "test_set = imgs_blocked[int(round(0.8*len(imgs_blocked))):] + imgs_notblocked[int(round(0.8*len(imgs_notblocked))):]\n",
        "print(len(test_set))\n",
        "\n",
        "del imgs_blocked\n",
        "del imgs_notblocked"
      ],
      "execution_count": 0,
      "outputs": [
        {
          "output_type": "stream",
          "text": [
            "6139\n",
            "1534\n"
          ],
          "name": "stdout"
        }
      ]
    },
    {
      "metadata": {
        "id": "A2u1DLB_6-5m",
        "colab_type": "text"
      },
      "cell_type": "markdown",
      "source": [
        "## Image Processing and Resizing"
      ]
    },
    {
      "metadata": {
        "id": "6k7X_5-zEP-T",
        "colab_type": "text"
      },
      "cell_type": "markdown",
      "source": [
        "The cv2 package brings together the most common tools for working with image data. Here, I create two lists, one for the images (represented as mathematical arrays, here called \"img_arrays\") and another for the image labels taken from the file paths. The ```read_resize_label_image``` function takes each image file, reads it (```imread```), then resizes it based on parameters for the x and y dimensions (```resize```) and interpolates in the new dimensions. This information is added to the img_arrays list. The file path is then parsed, if the word \"not\" appears in the file path, the value of ```img_labels``` is 0, if not, the value is 1. These two lists give the X and Y data. "
      ]
    },
    {
      "metadata": {
        "id": "jLq8bn5WbTbU",
        "colab_type": "code",
        "colab": {}
      },
      "cell_type": "code",
      "source": [
        "# read and resize images, also store as X, Y with X as image array and Y as label\n",
        "import cv2\n",
        "\n",
        "img_arrays = [] # images\n",
        "img_labels = [] # labels\n",
        "\n",
        "def read_resize_label_image(img, x_dim, y_dim):\n",
        "    \n",
        "  img_orig = cv2.imread(img)\n",
        "  img_arrays = cv2.resize(img_orig, dsize=(x_dim, y_dim), interpolation=cv2.INTER_CUBIC)\n",
        "  \n",
        " # if the image file name contains \"not\" then assigned 0, otherwise 1, so 1 is blocked, 0 is notblocked\n",
        "  if img.find(\"not\") is not -1:\n",
        "      img_labels = 0\n",
        "  else:\n",
        "      img_labels = 1\n",
        "      \n",
        "  del img_orig\n",
        "   \n",
        "    \n",
        "  return img_arrays, img_labels\n"
      ],
      "execution_count": 0,
      "outputs": []
    },
    {
      "metadata": {
        "id": "fGBrKsyjEXCc",
        "colab_type": "text"
      },
      "cell_type": "markdown",
      "source": [
        "Next, we apply the new function to the training data, producing an array of the training images to serve as the predictors and then training_labels as the output values. "
      ]
    },
    {
      "metadata": {
        "id": "kVZjfNqH7Epo",
        "colab_type": "code",
        "colab": {}
      },
      "cell_type": "code",
      "source": [
        "training_arrays, training_labels = zip(*[(read_resize_label_image(i, 150, 150)) for i in training_set])\n",
        "\n",
        "del training_set"
      ],
      "execution_count": 0,
      "outputs": []
    },
    {
      "metadata": {
        "id": "9SsThnhD9Sg5",
        "colab_type": "code",
        "colab": {}
      },
      "cell_type": "code",
      "source": [
        "test_arrays, test_labels = zip(*[(read_resize_label_image(i, 150, 150)) for i in test_set])\n",
        "\n",
        "del test_set"
      ],
      "execution_count": 0,
      "outputs": []
    },
    {
      "metadata": {
        "id": "VzJgWOcnkhu3",
        "colab_type": "code",
        "outputId": "e99affbe-4d32-4046-bde8-92e31a1dd428",
        "colab": {
          "base_uri": "https://localhost:8080/",
          "height": 115
        }
      },
      "cell_type": "code",
      "source": [
        "import pandas\n",
        "print(\"training: \", pandas.Series(training_labels).value_counts())\n",
        "print(\"test: \", pandas.Series(test_labels).value_counts())\n"
      ],
      "execution_count": 0,
      "outputs": [
        {
          "output_type": "stream",
          "text": [
            "training:  1    3305\n",
            "0    2834\n",
            "dtype: int64\n",
            "test:  1    826\n",
            "0    708\n",
            "dtype: int64\n"
          ],
          "name": "stdout"
        }
      ]
    },
    {
      "metadata": {
        "id": "Ag5MC01dEYcF",
        "colab_type": "text"
      },
      "cell_type": "markdown",
      "source": [
        "We can test that this worked by plotting the image. We can see from the image dimensions that the resize worked and the images are not 150x150. \n"
      ]
    },
    {
      "metadata": {
        "id": "b6ckNil898mr",
        "colab_type": "code",
        "outputId": "6507b164-2be9-49e3-a8c8-65d402a89c35",
        "colab": {
          "base_uri": "https://localhost:8080/",
          "height": 382
        }
      },
      "cell_type": "code",
      "source": [
        "# show image\n",
        "img_index = 330\n",
        "print(training_labels[img_index])\n",
        "pyplot.imshow(training_arrays[img_index])"
      ],
      "execution_count": 0,
      "outputs": [
        {
          "output_type": "stream",
          "text": [
            "1\n"
          ],
          "name": "stdout"
        },
        {
          "output_type": "execute_result",
          "data": {
            "text/plain": [
              "<matplotlib.image.AxesImage at 0x7f8190009080>"
            ]
          },
          "metadata": {
            "tags": []
          },
          "execution_count": 14
        },
        {
          "output_type": "display_data",
          "data": {
            "image/png": "[encoded data removed]",
            "text/plain": [
              "<Figure size 576x396 with 1 Axes>"
            ]
          },
          "metadata": {
            "tags": []
          }
        }
      ]
    },
    {
      "metadata": {
        "id": "lwTzOuVb5n6M",
        "colab_type": "text"
      },
      "cell_type": "markdown",
      "source": [
        "## **Very Crucial Step: Converting X and Y to arrays**"
      ]
    },
    {
      "metadata": {
        "id": "eYFn8GozHt0I",
        "colab_type": "code",
        "colab": {}
      },
      "cell_type": "code",
      "source": [
        "import numpy as np\n",
        "\n",
        "X_train_array = np.array(training_arrays)\n",
        "Y_train_labels = np.array(training_labels)\n",
        "\n",
        "del training_arrays\n",
        "del training_labels\n",
        "\n",
        "X_test_array = np.array(test_arrays)\n",
        "Y_test_labels = np.array(test_labels)\n",
        "\n",
        "del test_arrays\n",
        "del test_labels"
      ],
      "execution_count": 0,
      "outputs": []
    },
    {
      "metadata": {
        "id": "VQdp0m9R7MoG",
        "colab_type": "text"
      },
      "cell_type": "markdown",
      "source": [
        "## Create Validation Set"
      ]
    },
    {
      "metadata": {
        "id": "tAc2gNyxzBc2",
        "colab_type": "text"
      },
      "cell_type": "markdown",
      "source": [
        "**3) Determine your evaluation protocol: hold-out validation? K-fold validation? Which\n",
        "portion of the data should you use for validation?**\n",
        "\n",
        "The data will first be split into training and test, with 80% going to training and 20% in test. Then the trianing data will be split between training and validation, again 80% training and 20% validation. Shuffling the data is critical to ensuring the three datasets are representative. This evaluation protocol is hold-out, rather than K-fold, though that might be used at a later point for comparison's sake. "
      ]
    },
    {
      "metadata": {
        "id": "v5GrZoVrEebh",
        "colab_type": "text"
      },
      "cell_type": "markdown",
      "source": [
        "As we move closer to building the model, we need to also create a dataset to tune the model parameters before the fully trained model is tested against outside data. For this reason, I will split the training data into train and test sets. In this context, the test data is the validation data, rather than the test_set created earlier, which will not be used in model creation, only afterwards. 80% of the data is now in the training data, and 20% in validation. "
      ]
    },
    {
      "metadata": {
        "id": "ypC5c3VAVNfZ",
        "colab_type": "code",
        "colab": {}
      },
      "cell_type": "code",
      "source": [
        "# separate training data into training and validation sets\n",
        "\n",
        "from sklearn.model_selection import train_test_split\n",
        "\n",
        "X_train, X_test, Y_train, Y_test = train_test_split(X_train_array, Y_train_labels, test_size = 0.2, \n",
        "                                                   shuffle = True)\n",
        "\n",
        "# confirm the size of the datasets\n",
        "print(\"training images: \", len(X_train))\n",
        "print(\"training labels: \", len(Y_train))\n",
        "print(\"validation images: \", len(X_test))\n",
        "print(\"validation labels: \", len(Y_test))"
      ],
      "execution_count": 0,
      "outputs": []
    },
    {
      "metadata": {
        "id": "Nyp_xMzVASKO",
        "colab_type": "text"
      },
      "cell_type": "markdown",
      "source": [
        "#  Basic Model"
      ]
    },
    {
      "metadata": {
        "id": "smP5jqq8ze3N",
        "colab_type": "text"
      },
      "cell_type": "markdown",
      "source": [
        "**4) Develop a first model that does better than a basic baseline: a model that has\n",
        "\"statistical power\".**\n",
        "\n",
        "The basic baseline in this case would need be better than simply guessing that the bikelane is blocked 100% of the time, because the majority of the data points are blocked. This is 54.3%. "
      ]
    },
    {
      "metadata": {
        "id": "4_935QVxsc8E",
        "colab_type": "text"
      },
      "cell_type": "markdown",
      "source": [
        "**5) Develop a model that overfits.**\n",
        "In this situation, developing a basic model to beat the baseline will also overfit the data. "
      ]
    },
    {
      "metadata": {
        "id": "b6BXO35vzhwn",
        "colab_type": "code",
        "outputId": "d9dd8f94-708a-4c0d-da71-b71fa08cd6be",
        "colab": {
          "base_uri": "https://localhost:8080/",
          "height": 115
        }
      },
      "cell_type": "code",
      "source": [
        "print(\"training: \", pandas.Series(Y_train).value_counts(1))\n",
        "print(\"test: \", pandas.Series(Y_test).value_counts(1))"
      ],
      "execution_count": 0,
      "outputs": [
        {
          "output_type": "stream",
          "text": [
            "training:  1    0.542659\n",
            "0    0.457341\n",
            "dtype: float64\n",
            "test:  1    0.521173\n",
            "0    0.478827\n",
            "dtype: float64\n"
          ],
          "name": "stdout"
        }
      ]
    },
    {
      "metadata": {
        "id": "X1GjGLJCJE6l",
        "colab_type": "code",
        "colab": {}
      },
      "cell_type": "code",
      "source": [
        "from keras import preprocessing\n",
        "\n",
        "train_datagen_basic = preprocessing.image.ImageDataGenerator(\n",
        "                                    rescale=1./255   #Scale the image between 0 and 1\n",
        "                                    )\n",
        "\n",
        "val_datagen_basic = preprocessing.image.ImageDataGenerator(rescale=1./255)  #We do not augment validation data. we only perform rescale"
      ],
      "execution_count": 0,
      "outputs": []
    },
    {
      "metadata": {
        "id": "zHvrPm7hJJ5_",
        "colab_type": "code",
        "colab": {}
      },
      "cell_type": "code",
      "source": [
        "#Create the image generators\n",
        "train_generator_basic = train_datagen_basic.flow(X_train, Y_train, batch_size=64)\n",
        "\n",
        "val_generator_basic = val_datagen_basic.flow(X_test, Y_test, batch_size=64)"
      ],
      "execution_count": 0,
      "outputs": []
    },
    {
      "metadata": {
        "id": "bGyN0gAC_bRD",
        "colab_type": "code",
        "colab": {}
      },
      "cell_type": "code",
      "source": [
        "# basic model \n",
        "model = models.Sequential()\n",
        "model.add(layers.Conv2D(32, (3, 3), activation='relu',input_shape=(150, 150, 3)))\n",
        "model.add(layers.MaxPooling2D((2, 2)))\n",
        "model.add(layers.Conv2D(64, (3, 3), activation='relu'))\n",
        "model.add(layers.MaxPooling2D((2, 2)))\n",
        "model.add(layers.Conv2D(128, (3, 3), activation='relu'))\n",
        "model.add(layers.MaxPooling2D((2, 2)))\n",
        "model.add(layers.Conv2D(128, (3, 3), activation='relu'))\n",
        "model.add(layers.MaxPooling2D((2, 2)))\n",
        "model.add(layers.Flatten())\n",
        "model.add(layers.Dense(128, activation='relu'))\n",
        "model.add(layers.Dense(1, activation='sigmoid'))  #Sigmoid function at the end because we have just two classes\n",
        "\n",
        "## Compiler Includes Optimizer, and Learning Rate (LR), and Metrics\n",
        "\n",
        "model.compile(loss='binary_crossentropy', optimizer=optimizers.RMSprop(lr=1e-4), metrics=['acc'])"
      ],
      "execution_count": 0,
      "outputs": []
    },
    {
      "metadata": {
        "id": "nAklXbDqEFm8",
        "colab_type": "code",
        "outputId": "9a2dc49d-8808-41f0-b84a-628097a638c6",
        "colab": {
          "base_uri": "https://localhost:8080/",
          "height": 488
        }
      },
      "cell_type": "code",
      "source": [
        "model.summary()"
      ],
      "execution_count": 0,
      "outputs": [
        {
          "output_type": "stream",
          "text": [
            "_________________________________________________________________\n",
            "Layer (type)                 Output Shape              Param #   \n",
            "=================================================================\n",
            "conv2d_1 (Conv2D)            (None, 148, 148, 32)      896       \n",
            "_________________________________________________________________\n",
            "max_pooling2d_1 (MaxPooling2 (None, 74, 74, 32)        0         \n",
            "_________________________________________________________________\n",
            "conv2d_2 (Conv2D)            (None, 72, 72, 64)        18496     \n",
            "_________________________________________________________________\n",
            "max_pooling2d_2 (MaxPooling2 (None, 36, 36, 64)        0         \n",
            "_________________________________________________________________\n",
            "conv2d_3 (Conv2D)            (None, 34, 34, 128)       73856     \n",
            "_________________________________________________________________\n",
            "max_pooling2d_3 (MaxPooling2 (None, 17, 17, 128)       0         \n",
            "_________________________________________________________________\n",
            "conv2d_4 (Conv2D)            (None, 15, 15, 128)       147584    \n",
            "_________________________________________________________________\n",
            "max_pooling2d_4 (MaxPooling2 (None, 7, 7, 128)         0         \n",
            "_________________________________________________________________\n",
            "flatten_1 (Flatten)          (None, 6272)              0         \n",
            "_________________________________________________________________\n",
            "dense_1 (Dense)              (None, 128)               802944    \n",
            "_________________________________________________________________\n",
            "dense_2 (Dense)              (None, 1)                 129       \n",
            "=================================================================\n",
            "Total params: 1,043,905\n",
            "Trainable params: 1,043,905\n",
            "Non-trainable params: 0\n",
            "_________________________________________________________________\n"
          ],
          "name": "stdout"
        }
      ]
    },
    {
      "metadata": {
        "id": "e0TBYqLWAJG9",
        "colab_type": "text"
      },
      "cell_type": "markdown",
      "source": [
        "## Run the Basic Model"
      ]
    },
    {
      "metadata": {
        "id": "r28NwVwqHsEC",
        "colab_type": "text"
      },
      "cell_type": "markdown",
      "source": [
        "WIth the model compiled, we can run the basic model, which does not include any data augmentation or other potential improvements, beyond rescaling the pixle values to (0,1). To run the model, we set the number of epochs to 100, which indicates how many times to run through the data before finishing. 100 is picked arbitrarily, but is long enough to allow the model to go to overfitting in most cases."
      ]
    },
    {
      "metadata": {
        "id": "-_zCPAK2ogV5",
        "colab_type": "code",
        "outputId": "25769b1b-8007-4ae6-b321-9f8bd93f2934",
        "colab": {
          "base_uri": "https://localhost:8080/",
          "height": 687
        }
      },
      "cell_type": "code",
      "source": [
        "batch_size = 64\n",
        "epochs = 20\n",
        "\n",
        "history_basic = model.fit_generator(train_datagen_basic.flow(X_train, Y_train, batch_size=64),\n",
        "                                    validation_data = val_datagen_basic.flow(X_test, Y_test, batch_size=64),\n",
        "                                    steps_per_epoch = X_train.shape[0] // batch_size,\n",
        "                                    validation_steps = X_test.shape[0] // batch_size,\n",
        "                                    epochs = epochs)"
      ],
      "execution_count": 0,
      "outputs": [
        {
          "output_type": "stream",
          "text": [
            "Epoch 1/20\n",
            "76/76 [==============================] - 12s 161ms/step - loss: 0.6668 - acc: 0.5919 - val_loss: 0.6491 - val_acc: 0.6217\n",
            "Epoch 2/20\n",
            "76/76 [==============================] - 9s 115ms/step - loss: 0.6487 - acc: 0.6149 - val_loss: 0.6461 - val_acc: 0.6521\n",
            "Epoch 3/20\n",
            "76/76 [==============================] - 8s 108ms/step - loss: 0.6293 - acc: 0.6494 - val_loss: 0.6128 - val_acc: 0.6787\n",
            "Epoch 4/20\n",
            "76/76 [==============================] - 8s 107ms/step - loss: 0.6108 - acc: 0.6665 - val_loss: 0.6070 - val_acc: 0.6727\n",
            "Epoch 5/20\n",
            "76/76 [==============================] - 8s 108ms/step - loss: 0.5895 - acc: 0.6881 - val_loss: 0.5849 - val_acc: 0.6847\n",
            "Epoch 6/20\n",
            "76/76 [==============================] - 8s 108ms/step - loss: 0.5728 - acc: 0.7056 - val_loss: 0.5820 - val_acc: 0.7165\n",
            "Epoch 7/20\n",
            "76/76 [==============================] - 8s 107ms/step - loss: 0.5489 - acc: 0.7251 - val_loss: 0.5601 - val_acc: 0.7070\n",
            "Epoch 8/20\n",
            "76/76 [==============================] - 8s 107ms/step - loss: 0.5335 - acc: 0.7388 - val_loss: 0.5706 - val_acc: 0.6916\n",
            "Epoch 9/20\n",
            "76/76 [==============================] - 8s 108ms/step - loss: 0.5127 - acc: 0.7425 - val_loss: 0.5306 - val_acc: 0.7363\n",
            "Epoch 10/20\n",
            "76/76 [==============================] - 8s 109ms/step - loss: 0.4901 - acc: 0.7571 - val_loss: 0.6041 - val_acc: 0.6753\n",
            "Epoch 11/20\n",
            "76/76 [==============================] - 8s 109ms/step - loss: 0.4818 - acc: 0.7632 - val_loss: 0.5163 - val_acc: 0.7509\n",
            "Epoch 12/20\n",
            "76/76 [==============================] - 8s 109ms/step - loss: 0.4611 - acc: 0.7781 - val_loss: 0.5090 - val_acc: 0.7380\n",
            "Epoch 13/20\n",
            "76/76 [==============================] - 8s 108ms/step - loss: 0.4505 - acc: 0.7876 - val_loss: 0.5391 - val_acc: 0.7294\n",
            "Epoch 14/20\n",
            "76/76 [==============================] - 8s 108ms/step - loss: 0.4314 - acc: 0.7958 - val_loss: 0.4780 - val_acc: 0.7844\n",
            "Epoch 15/20\n",
            "76/76 [==============================] - 8s 108ms/step - loss: 0.4290 - acc: 0.7985 - val_loss: 0.4789 - val_acc: 0.7637\n",
            "Epoch 16/20\n",
            "76/76 [==============================] - 8s 108ms/step - loss: 0.4069 - acc: 0.8102 - val_loss: 0.4951 - val_acc: 0.7509\n",
            "Epoch 17/20\n",
            "76/76 [==============================] - 8s 107ms/step - loss: 0.3943 - acc: 0.8174 - val_loss: 0.4942 - val_acc: 0.7706\n",
            "Epoch 18/20\n",
            "76/76 [==============================] - 8s 109ms/step - loss: 0.3889 - acc: 0.8222 - val_loss: 0.4812 - val_acc: 0.7680\n",
            "Epoch 19/20\n",
            "76/76 [==============================] - 8s 108ms/step - loss: 0.3784 - acc: 0.8261 - val_loss: 0.4706 - val_acc: 0.7732\n",
            "Epoch 20/20\n",
            "76/76 [==============================] - 8s 108ms/step - loss: 0.3666 - acc: 0.8314 - val_loss: 0.4576 - val_acc: 0.7706\n"
          ],
          "name": "stdout"
        }
      ]
    },
    {
      "metadata": {
        "id": "36p4W3qh7_cW",
        "colab_type": "code",
        "colab": {}
      },
      "cell_type": "code",
      "source": [
        "#history_basic.__dict__"
      ],
      "execution_count": 0,
      "outputs": []
    },
    {
      "metadata": {
        "id": "naSR9Ouj7n1B",
        "colab_type": "text"
      },
      "cell_type": "markdown",
      "source": [
        "## Model Diagnostics"
      ]
    },
    {
      "metadata": {
        "id": "QFaAosPw57Ay",
        "colab_type": "code",
        "outputId": "bf52d812-f380-43cd-cc3b-482299fae775",
        "colab": {
          "base_uri": "https://localhost:8080/",
          "height": 767
        }
      },
      "cell_type": "code",
      "source": [
        "# evaluate model performance\n",
        "\n",
        "score_basic = model.evaluate(X_test_array, Y_test_labels, verbose=0)\n",
        "print('Test loss:', score_basic[0])\n",
        "print('Test accuracy:', score_basic[1])\n",
        "\n",
        "pyplot.plot(history_basic.history['acc'])\n",
        "pyplot.plot(history_basic.history['val_acc'])\n",
        "#pyplot.plot(history_basic.history['test_acc'])\n",
        "pyplot.title('model accuracy')\n",
        "pyplot.ylabel('accuracy')\n",
        "pyplot.xlabel('epoch')\n",
        "pyplot.legend(['train', 'test'], loc='upper left')\n",
        "pyplot.show()\n",
        "\n",
        "# there is a large gap (0.18) btw training and validation accuracy, so it is probably overfitting the training data\n",
        "\n",
        "\n",
        "pyplot.plot(history_basic.history['loss'])\n",
        "pyplot.plot(history_basic.history['val_loss'])\n",
        "#pyplot.plot(history_basic.history['test_acc'])\n",
        "pyplot.title('model loss')\n",
        "pyplot.ylabel('loss')\n",
        "pyplot.xlabel('epoch')\n",
        "pyplot.legend(['train', 'test'], loc='upper left')\n",
        "pyplot.show()\n"
      ],
      "execution_count": 0,
      "outputs": [
        {
          "output_type": "stream",
          "text": [
            "Test loss: 3.537448499473164\n",
            "Test accuracy: 0.770534549962433\n"
          ],
          "name": "stdout"
        },
        {
          "output_type": "display_data",
          "data": {
            "image/png": "[encoded data removed]",
            "text/plain": [
              "<Figure size 576x396 with 1 Axes>"
            ]
          },
          "metadata": {
            "tags": []
          }
        },
        {
          "output_type": "display_data",
          "data": {
            "image/png": "[encoded data removed]",
            "text/plain": [
              "<Figure size 576x396 with 1 Axes>"
            ]
          },
          "metadata": {
            "tags": []
          }
        }
      ]
    },
    {
      "metadata": {
        "id": "6ARTUsEN3gRT",
        "colab_type": "code",
        "colab": {}
      },
      "cell_type": "code",
      "source": [
        "model.save('basic.h5')\n"
      ],
      "execution_count": 0,
      "outputs": []
    },
    {
      "metadata": {
        "id": "SaxMq51npqkY",
        "colab_type": "text"
      },
      "cell_type": "markdown",
      "source": [
        "The basic model shows overfitting after about 10-15 epochs. The options from here are either to limit modeling to 10-15 epochs to prevent overfitting, or to address overfitting with other methods, such as regularization. This basic model shows about 75-80% validation accuracy before overfitting, which is better than the baseline, so deep learning might be suitable for this task. "
      ]
    },
    {
      "metadata": {
        "id": "ZBF6RyxHY4Xt",
        "colab_type": "text"
      },
      "cell_type": "markdown",
      "source": [
        "# Visualizing what the computer \"sees\""
      ]
    },
    {
      "metadata": {
        "id": "Tq5wLqVRgE_P",
        "colab_type": "text"
      },
      "cell_type": "markdown",
      "source": [
        "## visualize the features of the last convolutional layer picks up in feature extraction"
      ]
    },
    {
      "metadata": {
        "id": "HSl5Ia3E78tV",
        "colab_type": "code",
        "colab": {}
      },
      "cell_type": "code",
      "source": [
        "def visualize_heatmap(model, layer, index_val, output_name):\n",
        "  from keras.models import load_model\n",
        "  model_inspect = load_model(model)\n",
        "\n",
        "  last_conv_layer = model_inspect.get_layer(layer)\n",
        "  \n",
        "  from keras import backend as K\n",
        "  \n",
        "  import numpy as np\n",
        "\n",
        "  block_output = model_inspect.output[:, 0]\n",
        "\n",
        "  index = index_val\n",
        "\n",
        "  x = np.expand_dims(X_train[index] / 255, axis=0)\n",
        "\n",
        "  grads = K.gradients(block_output, last_conv_layer.output)[0]\n",
        "  pooled_grads = K.mean(grads, axis=(0, 1, 2))\n",
        "  iterate = K.function([model_inspect.input], [pooled_grads, last_conv_layer.output[0]])\n",
        "  pooled_grads_value, conv_layer_output_value = iterate([x])\n",
        "\n",
        "\n",
        "  for i in range(128): # needs to match the number of filters of the layer being inspected ('last_conv_layer')\n",
        "    conv_layer_output_value[:, :, i] *= pooled_grads_value[i]\n",
        " \n",
        "  # The channel-wise mean of the resulting feature map\n",
        "  # is our heatmap of class activation\n",
        "  heatmap = np.mean(conv_layer_output_value, axis=-1)\n",
        "\n",
        "  heatmap = np.maximum(heatmap, 0)\n",
        "  heatmap /= np.max(heatmap)\n",
        "  #pyplot.matshow(heatmap)\n",
        "\n",
        "  import cv2\n",
        "  # to write out the heatmap of the activation function, unhash the lines below\n",
        "  #cv2.imwrite(\"./img.jpg\", X_train[index])\n",
        "  #img = cv2.imread('./img.jpg')\n",
        "  \n",
        "  heatmap = cv2.resize(heatmap, (img.shape[1], img.shape[0]))\n",
        "\n",
        "  # We convert the heatmap to RGB\n",
        "  heatmap = np.uint8(255 * heatmap)\n",
        "  # We apply the heatmap to the original image\n",
        "  heatmap = cv2.applyColorMap(heatmap, cv2.COLORMAP_JET)\n",
        "  # 0.4 here is a heatmap intensity factor\n",
        "  superimposed_img = heatmap * 0.4 + img\n",
        "  cv2.imwrite('./' + output_name + '_' + str(index_val) + '.jpg', superimposed_img)"
      ],
      "execution_count": 0,
      "outputs": []
    },
    {
      "metadata": {
        "id": "LIkim4QM408q",
        "colab_type": "code",
        "colab": {
          "base_uri": "https://localhost:8080/",
          "height": 288
        },
        "outputId": "03d5c08e-8279-4ee9-b12c-c04e815eef4d"
      },
      "cell_type": "code",
      "source": [
        "visualize_heatmap('basic.h5', 'conv2d_4', 250, 'out')"
      ],
      "execution_count": 2,
      "outputs": [
        {
          "output_type": "stream",
          "text": [
            "Using TensorFlow backend.\n"
          ],
          "name": "stderr"
        },
        {
          "output_type": "error",
          "ename": "NameError",
          "evalue": "ignored",
          "traceback": [
            "\u001b[0;31m---------------------------------------------------------------------------\u001b[0m",
            "\u001b[0;31mNameError\u001b[0m                                 Traceback (most recent call last)",
            "\u001b[0;32m<ipython-input-2-a1d7f9c09367>\u001b[0m in \u001b[0;36m<module>\u001b[0;34m()\u001b[0m\n\u001b[0;32m----> 1\u001b[0;31m \u001b[0mvisualize_heatmap\u001b[0m\u001b[0;34m(\u001b[0m\u001b[0;34m'basic.h5'\u001b[0m\u001b[0;34m,\u001b[0m \u001b[0;34m'conv2d_4'\u001b[0m\u001b[0;34m,\u001b[0m \u001b[0;36m250\u001b[0m\u001b[0;34m,\u001b[0m \u001b[0;34m'out'\u001b[0m\u001b[0;34m)\u001b[0m\u001b[0;34m\u001b[0m\u001b[0;34m\u001b[0m\u001b[0m\n\u001b[0m",
            "\u001b[0;32m<ipython-input-1-ec3b9cec3cb1>\u001b[0m in \u001b[0;36mvisualize_heatmap\u001b[0;34m(model, layer, index_val, output_name)\u001b[0m\n\u001b[1;32m     13\u001b[0m   \u001b[0mindex\u001b[0m \u001b[0;34m=\u001b[0m \u001b[0mindex_val\u001b[0m\u001b[0;34m\u001b[0m\u001b[0;34m\u001b[0m\u001b[0m\n\u001b[1;32m     14\u001b[0m \u001b[0;34m\u001b[0m\u001b[0m\n\u001b[0;32m---> 15\u001b[0;31m   \u001b[0mx\u001b[0m \u001b[0;34m=\u001b[0m \u001b[0mnp\u001b[0m\u001b[0;34m.\u001b[0m\u001b[0mexpand_dims\u001b[0m\u001b[0;34m(\u001b[0m\u001b[0mX_train\u001b[0m\u001b[0;34m[\u001b[0m\u001b[0mindex\u001b[0m\u001b[0;34m]\u001b[0m \u001b[0;34m/\u001b[0m \u001b[0;36m255\u001b[0m\u001b[0;34m,\u001b[0m \u001b[0maxis\u001b[0m\u001b[0;34m=\u001b[0m\u001b[0;36m0\u001b[0m\u001b[0;34m)\u001b[0m\u001b[0;34m\u001b[0m\u001b[0;34m\u001b[0m\u001b[0m\n\u001b[0m\u001b[1;32m     16\u001b[0m \u001b[0;34m\u001b[0m\u001b[0m\n\u001b[1;32m     17\u001b[0m   \u001b[0mgrads\u001b[0m \u001b[0;34m=\u001b[0m \u001b[0mK\u001b[0m\u001b[0;34m.\u001b[0m\u001b[0mgradients\u001b[0m\u001b[0;34m(\u001b[0m\u001b[0mblock_output\u001b[0m\u001b[0;34m,\u001b[0m \u001b[0mlast_conv_layer\u001b[0m\u001b[0;34m.\u001b[0m\u001b[0moutput\u001b[0m\u001b[0;34m)\u001b[0m\u001b[0;34m[\u001b[0m\u001b[0;36m0\u001b[0m\u001b[0;34m]\u001b[0m\u001b[0;34m\u001b[0m\u001b[0;34m\u001b[0m\u001b[0m\n",
            "\u001b[0;31mNameError\u001b[0m: name 'X_train' is not defined"
          ]
        }
      ]
    },
    {
      "metadata": {
        "id": "ER4GhjJP99Lz",
        "colab_type": "code",
        "colab": {}
      },
      "cell_type": "code",
      "source": [
        "for i in range(251,255):\n",
        "    visualize_heatmap('basic.h5', 'conv2d_4', i, 'out')"
      ],
      "execution_count": 0,
      "outputs": []
    }
  ]
}